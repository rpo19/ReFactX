{
 "cells": [
  {
   "cell_type": "code",
   "execution_count": 11,
   "id": "f6afa8a8-0dca-474e-9bfd-4c3e405e1e50",
   "metadata": {},
   "outputs": [],
   "source": [
    "import json\n",
    "from IPython.display import JSON"
   ]
  },
  {
   "cell_type": "code",
   "execution_count": 30,
   "id": "e071c2ab-0ead-4abb-b496-de54c1cec8a5",
   "metadata": {},
   "outputs": [],
   "source": [
    "evaluation = []\n",
    "with open('test_phi4_sample50_3x3.out.backup') as fd:\n",
    "    line = fd.readline()\n",
    "    while line:\n",
    "        evaluation.append(json.loads(line))\n",
    "        line = fd.readline()"
   ]
  },
  {
   "cell_type": "code",
   "execution_count": 31,
   "id": "ea84da38-ccf3-408e-9ecd-240df1fcb4db",
   "metadata": {},
   "outputs": [
    {
     "data": {
      "text/plain": [
       "0.0"
      ]
     },
     "execution_count": 31,
     "metadata": {},
     "output_type": "execute_result"
    }
   ],
   "source": [
    "len([i for i,ob in enumerate(evaluation) if 'Final answer:' in ob.get('full_prediction','')]) / (len(evaluation)-1)"
   ]
  },
  {
   "cell_type": "code",
   "execution_count": 32,
   "id": "9da97e22-4554-4cb6-a656-665f646fb01e",
   "metadata": {},
   "outputs": [
    {
     "data": {
      "text/plain": [
       "[]"
      ]
     },
     "execution_count": 32,
     "metadata": {},
     "output_type": "execute_result"
    }
   ],
   "source": [
    "[i for i,ob in enumerate(evaluation) if 'Final answer:' in ob.get('full_prediction','')]"
   ]
  },
  {
   "cell_type": "code",
   "execution_count": 33,
   "id": "4fe57744-1857-4ea3-9034-292935f7ec2c",
   "metadata": {},
   "outputs": [
    {
     "name": "stdout",
     "output_type": "stream",
     "text": [
      "Who is the lead character in the Uncharted series?\n"
     ]
    }
   ],
   "source": [
    "print(evaluation[1]['question'])"
   ]
  },
  {
   "cell_type": "markdown",
   "id": "6c7875aa-3cac-485c-bcef-cf513a2115aa",
   "metadata": {},
   "source": [
    "1 correct ~\n",
    "4 wrong\n",
    "6 correct -\n",
    "8 correct +\n",
    "12 wrong\n",
    "13 wrong\n",
    "14 wrong\n",
    "\n",
    "common problems:\n",
    "- model answer too quickly --> prompt\n",
    "- need to generate more triples --> prompt (maybe more than one-shot)\n",
    "- need to generate different triples!! --> can I calculate number of leaves at index time to avoid the model to fall in the same leaf?"
   ]
  },
  {
   "cell_type": "code",
   "execution_count": 34,
   "id": "a64a6260-dd7f-493c-ad81-b33bcefcf31c",
   "metadata": {
    "scrolled": true
   },
   "outputs": [
    {
     "data": {
      "application/json": {
       "answer_complete": false,
       "full_prediction": "The question asks for the city in which the Arc de Triomphe is located. To answer this, I need to identify the city associated with the Arc de Triomphe.\n\nFact: <Arc de Triomphe> <located in the administrative territorial entity> <8th arrondissement of Paris> .\nFact: <8th arrondissement of Paris> <located in the administrative territorial entity> <Paris> .\nFact: <Paris> <country> <France> .\nFact: <Paris> <capital of> <France> .\nFact: <Paris> <population> <+2145906> .\nFact: <Paris> <area> <+105.4> .\nFact: <Paris> <official language> <French language> .\nFact: <Paris> <time period> <High Roman Empire (time period (ca. 27 BC to 235 AD))> .\nFact: <Paris> <location> <Cleveland Museum of Art> .\nFact: <Paris> <location> <Museo Nacional Centro de Arte Reina Sofía> .\nFact: <Paris> <location> <National Gallery of Art> .\nFact: <Paris> <location> <National Gallery of Australia> .\nFact: <Paris> <location> <National Museum of Norway> .\nFact: <Paris> <location> <Nationalmuseum> .\nFact: <Paris> <location> <The Phillips Collection> .\nFact: <Paris> <location> <Tate> .\nFact: <Paris> <location> <Worcester Art Museum> .\nFact: <Paris> <location> <Art Institute of Chicago> .\nFact: <Paris> <location>\n<Art Institute of Chicago> .\nFact: <Paris> <location>\n<The Phillips Collection> .\nFact: <Paris> <location>\n<Tate> .\nFact",
       "full_sample": "<|im_start|>system<|im_sep|>You are a helpful question answering assistant that bases its answer on facts from a knowledge base.\n1) You receive an input question.\n2) You reason on the path you need to follow to reach the answer starting from the information in the question.\n3) You explicitly provide relevant facts, one per line starting with \"Fact:\".\n4) You explain your reasoning process and provide a long answer with your motivations based on the facts.\n5) You provide a short concise answer.\n\nSometimes it could happen that there are no relevant facts in the knowledge base.\nIn these cases you either:\na) provide your own answer clearly stating that there were no supporting facts to your answer;\nb) in case you don't know the answer or you are not confident enough, you just answer \"I don't know\".<|im_end|><|im_start|>user<|im_sep|>Which mountain is taller between Mont Blanc and Mount Rainier?<|im_end|><|im_start|>assistant<|im_sep|>Reasoning: I need to provide the height of Mont Blanc and the height of Mount Rainier, then I need to compare the two heights and the final answer will be the taller mountain.\nFact: <Mont Blanc> <elevation above sea level> <4,807.02±0.5 meters> .\nNow I need the height of Mount Rainier.\nFact: <Mount Rainier> <elevation above sea level> <4,389 meters> .\nLong answer: Mont Blanc is 4,807 meters tall, while Mount Rainier is 4,389 meters, so Mont Blanc is taller than Mount Rainier.\n\nAnswer: Mont Blanc.<|im_end|><|im_start|>user<|im_sep|>What city is the Arc de Triomphe in?<|im_end|><|im_start|>assistant<|im_sep|>\n\nThe question asks for the city in which the Arc de Triomphe is located. To answer this, I need to identify the city associated with the Arc de Triomphe.\n\nFact: <Arc de Triomphe> <located in the administrative territorial entity> <8th arrondissement of Paris> .\nFact: <8th arrondissement of Paris> <located in the administrative territorial entity> <Paris> .\nFact: <Paris> <country> <France> .\nFact: <Paris> <capital of> <France> .\nFact: <Paris> <population> <+2145906> .\nFact: <Paris> <area> <+105.4> .\nFact: <Paris> <official language> <French language> .\nFact: <Paris> <time period> <High Roman Empire (time period (ca. 27 BC to 235 AD))> .\nFact: <Paris> <location> <Cleveland Museum of Art> .\nFact: <Paris> <location> <Museo Nacional Centro de Arte Reina Sofía> .\nFact: <Paris> <location> <National Gallery of Art> .\nFact: <Paris> <location> <National Gallery of Australia> .\nFact: <Paris> <location> <National Museum of Norway> .\nFact: <Paris> <location> <Nationalmuseum> .\nFact: <Paris> <location> <The Phillips Collection> .\nFact: <Paris> <location> <Tate> .\nFact: <Paris> <location> <Worcester Art Museum> .\nFact: <Paris> <location> <Art Institute of Chicago> .\nFact: <Paris> <location>\n<Art Institute of Chicago> .\nFact: <Paris> <location>\n<The Phillips Collection> .\nFact: <Paris> <location>\n<Tate> .\nFact",
       "prediction": "",
       "prompt": "<|im_start|>system<|im_sep|>You are a helpful question answering assistant that bases its answer on facts from a knowledge base.\n1) You receive an input question.\n2) You reason on the path you need to follow to reach the answer starting from the information in the question.\n3) You explicitly provide relevant facts, one per line starting with \"Fact:\".\n4) You explain your reasoning process and provide a long answer with your motivations based on the facts.\n5) You provide a short concise answer.\n\nSometimes it could happen that there are no relevant facts in the knowledge base.\nIn these cases you either:\na) provide your own answer clearly stating that there were no supporting facts to your answer;\nb) in case you don't know the answer or you are not confident enough, you just answer \"I don't know\".<|im_end|><|im_start|>user<|im_sep|>Which mountain is taller between Mont Blanc and Mount Rainier?<|im_end|><|im_start|>assistant<|im_sep|>Reasoning: I need to provide the height of Mont Blanc and the height of Mount Rainier, then I need to compare the two heights and the final answer will be the taller mountain.\nFact: <Mont Blanc> <elevation above sea level> <4,807.02±0.5 meters> .\nNow I need the height of Mount Rainier.\nFact: <Mount Rainier> <elevation above sea level> <4,389 meters> .\nLong answer: Mont Blanc is 4,807 meters tall, while Mount Rainier is 4,389 meters, so Mont Blanc is taller than Mount Rainier.\n\nAnswer: Mont Blanc.<|im_end|><|im_start|>user<|im_sep|>What city is the Arc de Triomphe in?<|im_end|><|im_start|>assistant<|im_sep|>\n\n",
       "question": "What city is the Arc de Triomphe in?",
       "triples": [
        [
         366,
         37909,
         409,
         12639,
         14773,
         383,
         29,
         366,
         40563,
         304,
         279,
         23541,
         52482,
         5502,
         29,
         366,
         23,
         339,
         2961,
         2159,
         50753,
         315,
         12366,
         29,
         662,
         198
        ],
        [
         366,
         23,
         339,
         2961,
         2159,
         50753,
         315,
         12366,
         29,
         366,
         40563,
         304,
         279,
         23541,
         52482,
         5502,
         29,
         366,
         60704,
         29,
         662,
         198
        ],
        [
         366,
         60704,
         29,
         366,
         11389,
         29,
         366,
         50100,
         29,
         662,
         198
        ],
        [
         366,
         60704,
         29,
         366,
         66163,
         315,
         29,
         366,
         50100,
         29,
         662,
         198
        ],
        [
         366,
         60704,
         29,
         366,
         45541,
         29,
         86803,
         11584,
         20615,
         21,
         29,
         662,
         198
        ],
        [
         366,
         60704,
         29,
         366,
         4903,
         29,
         86803,
         6550,
         13,
         19,
         29,
         662,
         198
        ],
        [
         366,
         60704,
         29,
         366,
         33912,
         4221,
         29,
         366,
         44297,
         4221,
         29,
         662,
         198
        ],
        [
         366,
         60704,
         29,
         366,
         1712,
         4261,
         29,
         366,
         12243,
         13041,
         21080,
         320,
         1712,
         4261,
         320,
         936,
         13,
         220,
         1544,
         18531,
         311,
         220,
         12422,
         9827,
         595,
         29,
         662,
         198
        ],
        [
         366,
         60704,
         29,
         366,
         2588,
         29,
         366,
         34,
         22198,
         16730,
         315,
         5277,
         29,
         662,
         198
        ],
        [
         366,
         60704,
         29,
         366,
         2588,
         29,
         366,
         44,
         817,
         78,
         45689,
         57674,
         409,
         98600,
         1050,
         2259,
         36647,
         7583,
         29,
         662,
         198
        ],
        [
         366,
         60704,
         29,
         366,
         2588,
         29,
         366,
         31912,
         19853,
         315,
         5277,
         29,
         662,
         198
        ],
        [
         366,
         60704,
         29,
         366,
         2588,
         29,
         366,
         31912,
         19853,
         315,
         8494,
         29,
         662,
         198
        ],
        [
         366,
         60704,
         29,
         366,
         2588,
         29,
         366,
         31912,
         16730,
         315,
         32603,
         29,
         662,
         198
        ],
        [
         366,
         60704,
         29,
         366,
         2588,
         29,
         366,
         31912,
         76,
         11768,
         29,
         662,
         198
        ],
        [
         366,
         60704,
         29,
         366,
         2588,
         29,
         366,
         791,
         37514,
         11348,
         29,
         662,
         198
        ],
        [
         366,
         60704,
         29,
         366,
         2588,
         29,
         366,
         51,
         349,
         29,
         662,
         198
        ],
        [
         366,
         60704,
         29,
         366,
         2588,
         29,
         366,
         54,
         16716,
         3751,
         5277,
         16730,
         29,
         662,
         198
        ],
        [
         366,
         60704,
         29,
         366,
         2588,
         29,
         366,
         9470,
         10181,
         315,
         10780,
         29,
         662,
         198
        ],
        [
         366,
         60704,
         29,
         366,
         2588,
         29,
         198
        ],
        [
         366,
         60704,
         29,
         366,
         2588,
         29,
         198
        ],
        [
         366,
         60704,
         29,
         366,
         2588,
         29,
         198
        ]
       ]
      },
      "text/plain": [
       "<IPython.core.display.JSON object>"
      ]
     },
     "execution_count": 34,
     "metadata": {
      "application/json": {
       "expanded": false,
       "root": "root"
      }
     },
     "output_type": "execute_result"
    }
   ],
   "source": [
    "JSON(evaluation[8])"
   ]
  },
  {
   "cell_type": "code",
   "execution_count": 26,
   "id": "15a20d09-4547-421d-b879-10cb7269f57b",
   "metadata": {},
   "outputs": [
    {
     "name": "stdout",
     "output_type": "stream",
     "text": [
      "What city is the Arc de Triomphe in?\n",
      "Reasoning: To answer this question, I need to identify the city where the Arc de Triomphe is located.\n",
      "Fact: <Arc de Triomphe> <location> <Paris> .\n",
      "Long answer: The Arc de Triomphe is a famous monument located in Paris, France. It stands at the western end of the Champs-Élysées and is an iconic symbol of the city.\n",
      "\n",
      "Answer: Paris.<|im_end|>\n"
     ]
    }
   ],
   "source": [
    "i = 5\n",
    "print(evaluation[i]['question'])\n",
    "print(evaluation[i]['full_prediction'])"
   ]
  }
 ],
 "metadata": {
  "kernelspec": {
   "display_name": "Python (conda base)",
   "language": "python",
   "name": "condabase"
  },
  "language_info": {
   "codemirror_mode": {
    "name": "ipython",
    "version": 3
   },
   "file_extension": ".py",
   "mimetype": "text/x-python",
   "name": "python",
   "nbconvert_exporter": "python",
   "pygments_lexer": "ipython3",
   "version": "3.11.10"
  }
 },
 "nbformat": 4,
 "nbformat_minor": 5
}
