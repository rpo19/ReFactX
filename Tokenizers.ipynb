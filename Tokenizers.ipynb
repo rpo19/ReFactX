{
 "cells": [
  {
   "cell_type": "code",
   "execution_count": 1,
   "id": "34f6e5a3-a292-445f-bcd4-20d9ce9ee1b3",
   "metadata": {},
   "outputs": [],
   "source": [
    "from transformers import AutoTokenizer"
   ]
  },
  {
   "cell_type": "code",
   "execution_count": 2,
   "id": "7d4aa0ac-e4c7-4d84-97a8-c773244bd0f3",
   "metadata": {},
   "outputs": [],
   "source": [
    "# meta llama\n",
    "tokenizer_llama_1B = AutoTokenizer.from_pretrained(\"meta-llama/Llama-3.2-1B-Instruct\")\n",
    "tokenizer_llama_3B = AutoTokenizer.from_pretrained(\"meta-llama/Llama-3.2-3B-Instruct\")\n",
    "tokenizer_llama_8B = AutoTokenizer.from_pretrained(\"meta-llama/Llama-3.1-8B-Instruct\")\n",
    "tokenizer_llama_70B = AutoTokenizer.from_pretrained(\"meta-llama/Llama-3.3-70B-Instruct\")\n",
    "\n",
    "# alibaba qwen\n",
    "tokenizer_qwen_1B = AutoTokenizer.from_pretrained(\"Qwen/Qwen2.5-1.5B-Instruct\")\n",
    "tokenizer_qwen_3B = AutoTokenizer.from_pretrained(\"Qwen/Qwen2.5-3B-Instruct\")\n",
    "tokenizer_qwen_7B = AutoTokenizer.from_pretrained(\"Qwen/Qwen2.5-7B-Instruct\")\n",
    "tokenizer_qwen_14B = AutoTokenizer.from_pretrained(\"Qwen/Qwen2.5-14B-Instruct\")\n",
    "tokenizer_qwen_32B = AutoTokenizer.from_pretrained(\"Qwen/Qwen2.5-32B-Instruct\")\n",
    "tokenizer_qwen_72B = AutoTokenizer.from_pretrained(\"Qwen/Qwen2.5-72B-Instruct\")\n",
    "\n",
    "# microsoft phi\n",
    "# phi3 has different tokenizer # we use other families for small models\n",
    "tokenizer_phi4_14B = AutoTokenizer.from_pretrained(\"microsoft/phi-4\")\n",
    "\n",
    "# google gemma\n",
    "tokenizer_gemma_1B = AutoTokenizer.from_pretrained(\"google/gemma-3-1b-it\")\n",
    "tokenizer_gemma_4B = AutoTokenizer.from_pretrained(\"google/gemma-3-4b-it\")\n",
    "tokenizer_gemma_12B = AutoTokenizer.from_pretrained(\"google/gemma-3-12b-it\")\n",
    "tokenizer_gemma_27B = AutoTokenizer.from_pretrained(\"google/gemma-3-27b-it\")\n",
    "\n",
    "# mistral\n",
    "tokenizer_mistral_24B = AutoTokenizer.from_pretrained(\"mistralai/Mistral-Small-24B-Instruct-2501\")\n",
    "\n",
    "# deepseek\n",
    "tokenizer_deepseek_qwen_1B = AutoTokenizer.from_pretrained(\"deepseek-ai/DeepSeek-R1-Distill-Qwen-1.5B\")\n",
    "tokenizer_deepseek_qwen_7B = AutoTokenizer.from_pretrained(\"deepseek-ai/DeepSeek-R1-Distill-Qwen-7B\")\n",
    "tokenizer_deepseek_qwen_14B = AutoTokenizer.from_pretrained(\"deepseek-ai/DeepSeek-R1-Distill-Qwen-14B\")\n",
    "tokenizer_deepseek_llama_8B = AutoTokenizer.from_pretrained(\"deepseek-ai/DeepSeek-R1-Distill-Llama-8B\")"
   ]
  },
  {
   "cell_type": "code",
   "execution_count": 3,
   "id": "07ef05d8-bd29-4c33-b303-acd5b871006e",
   "metadata": {},
   "outputs": [],
   "source": [
    "assert tokenizer_gemma_1B.vocab == tokenizer_gemma_1B.vocab\n",
    "assert tokenizer_gemma_4B.vocab == tokenizer_gemma_1B.vocab\n",
    "assert tokenizer_gemma_12B.vocab == tokenizer_gemma_1B.vocab\n",
    "assert tokenizer_gemma_27B.vocab == tokenizer_gemma_1B.vocab"
   ]
  },
  {
   "cell_type": "code",
   "execution_count": 4,
   "id": "99a46b00-c7d2-464a-afb2-7d6de0b7c104",
   "metadata": {},
   "outputs": [],
   "source": [
    "assert tokenizer_qwen_1B.vocab == tokenizer_qwen_1B.vocab\n",
    "assert tokenizer_qwen_7B.vocab == tokenizer_qwen_1B.vocab\n",
    "assert tokenizer_qwen_14B.vocab == tokenizer_qwen_1B.vocab\n",
    "assert tokenizer_qwen_32B.vocab == tokenizer_qwen_1B.vocab\n",
    "assert tokenizer_qwen_72B.vocab == tokenizer_qwen_1B.vocab"
   ]
  },
  {
   "cell_type": "code",
   "execution_count": 5,
   "id": "d2f7f4a1-33af-4932-a731-e5c77319d8f2",
   "metadata": {},
   "outputs": [],
   "source": [
    "assert tokenizer_llama_1B.vocab == tokenizer_llama_1B.vocab\n",
    "assert tokenizer_llama_3B.vocab == tokenizer_llama_1B.vocab\n",
    "assert tokenizer_llama_8B.vocab == tokenizer_llama_1B.vocab\n",
    "assert tokenizer_llama_70B.vocab == tokenizer_llama_1B.vocab"
   ]
  },
  {
   "cell_type": "code",
   "execution_count": 6,
   "id": "9a29a811-bb0b-4f37-972e-3bb6c4d0a3c4",
   "metadata": {},
   "outputs": [],
   "source": [
    "assert tokenizer_deepseek_qwen_7B.vocab == tokenizer_deepseek_qwen_1B.vocab \n",
    "assert tokenizer_deepseek_qwen_14B.vocab == tokenizer_deepseek_qwen_1B.vocab "
   ]
  },
  {
   "cell_type": "code",
   "execution_count": 7,
   "id": "e0f9c754-df65-42db-a972-a4b147abbc65",
   "metadata": {},
   "outputs": [],
   "source": [
    "# qwen != llama\n",
    "assert tokenizer_qwen_1B.vocab != tokenizer_llama_1B.vocab\n",
    "# phi != llama\n",
    "assert tokenizer_phi4_14B.vocab != tokenizer_llama_1B.vocab\n",
    "# gemma != llama\n",
    "assert tokenizer_gemma_1B.vocab != tokenizer_llama_1B.vocab\n",
    "# mistral != llama\n",
    "assert tokenizer_mistral_24B.vocab != tokenizer_llama_1B.vocab\n",
    "# qwen != deepseek qwen\n",
    "assert tokenizer_qwen_1B.vocab != tokenizer_deepseek_qwen_1B.vocab\n",
    "# llama != deepseek llama\n",
    "assert tokenizer_llama_1B.vocab != tokenizer_deepseek_llama_8B.vocab\n",
    "# deepseek qwen != deepseek llama\n",
    "assert tokenizer_deepseek_qwen_1B.vocab != tokenizer_deepseek_llama_8B.vocab"
   ]
  },
  {
   "cell_type": "code",
   "execution_count": 13,
   "id": "0981773f-918f-476d-9673-5e15af073c70",
   "metadata": {},
   "outputs": [
    {
     "data": {
      "text/plain": [
       "[574, 374, 264, 1273, 11652]"
      ]
     },
     "execution_count": 13,
     "metadata": {},
     "output_type": "execute_result"
    }
   ],
   "source": [
    "tokenizer_qwen_3B.encode('this is a test sentence')"
   ]
  },
  {
   "cell_type": "code",
   "execution_count": 16,
   "id": "dcca6b5e-aa55-4fa1-ad02-863b95d8e1ca",
   "metadata": {},
   "outputs": [
    {
     "data": {
      "text/plain": [
       "[128000, 576, 374, 264, 1296, 11914]"
      ]
     },
     "execution_count": 16,
     "metadata": {},
     "output_type": "execute_result"
    }
   ],
   "source": [
    "tokenizer_llama_1B.encode('this is a test sentence')"
   ]
  },
  {
   "cell_type": "code",
   "execution_count": 17,
   "id": "c255fc65-7461-46f3-888b-00306c260551",
   "metadata": {},
   "outputs": [
    {
     "data": {
      "text/plain": [
       "[9312, 29, 366, 65, 29, 366, 66, 29, 659]"
      ]
     },
     "execution_count": 17,
     "metadata": {},
     "output_type": "execute_result"
    }
   ],
   "source": [
    "tokenizer_qwen_1B.encode('<a> <b> <c> .')"
   ]
  },
  {
   "cell_type": "code",
   "execution_count": 26,
   "id": "d832f3c6-dcdd-4cc9-9c99-15f4d4b023bc",
   "metadata": {},
   "outputs": [
    {
     "data": {
      "text/plain": [
       "True"
      ]
     },
     "execution_count": 26,
     "metadata": {},
     "output_type": "execute_result"
    }
   ],
   "source": [
    "tokenizer_qwen_1B.convert_ids_to_tokens(200000) is None"
   ]
  },
  {
   "cell_type": "code",
   "execution_count": 23,
   "id": "9a6a0b6c-e83f-4474-be3e-d505a5a97811",
   "metadata": {},
   "outputs": [
    {
     "data": {
      "text/plain": [
       "100352"
      ]
     },
     "execution_count": 23,
     "metadata": {},
     "output_type": "execute_result"
    }
   ],
   "source": [
    "len(tokenizer_phi4_14B.vocab)"
   ]
  },
  {
   "cell_type": "markdown",
   "id": "478862b7-4820-4e34-b129-ec909d56e1b5",
   "metadata": {},
   "source": [
    "# Find tokenizer config"
   ]
  },
  {
   "cell_type": "code",
   "execution_count": 3,
   "id": "fbe800ed-0fb3-423d-b364-d534d30959b3",
   "metadata": {},
   "outputs": [],
   "source": [
    "tokenizer = tokenizer_gemma_1B"
   ]
  },
  {
   "cell_type": "code",
   "execution_count": 4,
   "id": "2dabf15f-8b8b-402b-9746-e25efbce10c0",
   "metadata": {},
   "outputs": [
    {
     "name": "stdout",
     "output_type": "stream",
     "text": [
      "107\n",
      "\n",
      "\n"
     ]
    }
   ],
   "source": [
    "newline_token_id = tokenizer.encode('''\n",
    "''')[-1]\n",
    "print(newline_token_id)\n",
    "newline_token = tokenizer.convert_ids_to_tokens(newline_token_id)\n",
    "print(newline_token)"
   ]
  },
  {
   "cell_type": "code",
   "execution_count": 5,
   "id": "ee0713af-1f7f-4c4e-93b7-9e8ca18c7867",
   "metadata": {},
   "outputs": [
    {
     "name": "stdout",
     "output_type": "stream",
     "text": [
      "[107, 27711, 236787]\n"
     ]
    }
   ],
   "source": [
    "switch_pattern = tokenizer.encode('''\n",
    "Fact:''')[1:]\n",
    "print(switch_pattern)"
   ]
  },
  {
   "cell_type": "code",
   "execution_count": 6,
   "id": "6d097da7-74e0-417f-9c81-4b44b63c52b8",
   "metadata": {},
   "outputs": [
    {
     "name": "stdout",
     "output_type": "stream",
     "text": [
      "[107, 7925, 236787]\n"
     ]
    }
   ],
   "source": [
    "switch_pattern = tokenizer.encode('''\n",
    "Answer:''')[1:]\n",
    "print(switch_pattern)"
   ]
  },
  {
   "cell_type": "code",
   "execution_count": 7,
   "id": "3469d75b-19be-4c85-9d2c-a60213dbde7b",
   "metadata": {},
   "outputs": [
    {
     "name": "stdout",
     "output_type": "stream",
     "text": [
      "783\n"
     ]
    }
   ],
   "source": [
    "end_of_triple = tokenizer.encode('''triple .''')[-1]\n",
    "print(end_of_triple)"
   ]
  },
  {
   "cell_type": "code",
   "execution_count": 8,
   "id": "c7e9bec2-6281-497e-9949-7df3082809fa",
   "metadata": {},
   "outputs": [
    {
     "data": {
      "text/plain": [
       "1"
      ]
     },
     "execution_count": 8,
     "metadata": {},
     "output_type": "execute_result"
    }
   ],
   "source": [
    "tokenizer.eos_token_id"
   ]
  },
  {
   "cell_type": "code",
   "execution_count": 9,
   "id": "387eb424-33c9-4c1a-ba01-a1898415ddcf",
   "metadata": {},
   "outputs": [
    {
     "data": {
      "text/plain": [
       "{'bos_token': '<bos>',\n",
       " 'eos_token': '<eos>',\n",
       " 'unk_token': '<unk>',\n",
       " 'pad_token': '<pad>',\n",
       " 'boi_token': '<start_of_image>',\n",
       " 'eoi_token': '<end_of_image>',\n",
       " 'image_token': '<image_soft_token>'}"
      ]
     },
     "execution_count": 9,
     "metadata": {},
     "output_type": "execute_result"
    }
   ],
   "source": [
    "tokenizer.special_tokens_map"
   ]
  },
  {
   "cell_type": "code",
   "execution_count": 10,
   "id": "8e9297df-b07e-46f0-8181-bc13ea502622",
   "metadata": {},
   "outputs": [
    {
     "data": {
      "text/plain": [
       "'<bos>'"
      ]
     },
     "execution_count": 10,
     "metadata": {},
     "output_type": "execute_result"
    }
   ],
   "source": [
    "tokenizer.bos_token"
   ]
  },
  {
   "cell_type": "code",
   "execution_count": 11,
   "id": "bd5e4730-f606-4614-b2f9-7162ad4c2e43",
   "metadata": {},
   "outputs": [
    {
     "data": {
      "text/plain": [
       "True"
      ]
     },
     "execution_count": 11,
     "metadata": {},
     "output_type": "execute_result"
    }
   ],
   "source": [
    "tokenizer.add_bos_token"
   ]
  },
  {
   "cell_type": "code",
   "execution_count": 17,
   "id": "8a53fc7d-b97a-4135-9648-6da04ee75552",
   "metadata": {},
   "outputs": [
    {
     "data": {
      "text/plain": [
       "'ciao come stai?'"
      ]
     },
     "execution_count": 17,
     "metadata": {},
     "output_type": "execute_result"
    }
   ],
   "source": [
    "tokenizer.decode(tokenizer(['ciao come stai?'], add_special_tokens=False)['input_ids'][0])"
   ]
  }
 ],
 "metadata": {
  "kernelspec": {
   "display_name": "Python (conda base)",
   "language": "python",
   "name": "condabase"
  },
  "language_info": {
   "codemirror_mode": {
    "name": "ipython",
    "version": 3
   },
   "file_extension": ".py",
   "mimetype": "text/x-python",
   "name": "python",
   "nbconvert_exporter": "python",
   "pygments_lexer": "ipython3",
   "version": "3.11.10"
  }
 },
 "nbformat": 4,
 "nbformat_minor": 5
}
