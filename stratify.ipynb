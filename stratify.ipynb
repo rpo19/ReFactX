{
 "cells": [
  {
   "cell_type": "code",
   "execution_count": 1,
   "id": "8c4a68a9-d914-4438-a20e-6c515aa9e496",
   "metadata": {},
   "outputs": [],
   "source": [
    "datapath = \"./data/mintaka_test.json\""
   ]
  },
  {
   "cell_type": "code",
   "execution_count": 3,
   "id": "ab6a8ded-3d00-420f-bf11-208ba5107d9a",
   "metadata": {},
   "outputs": [
    {
     "name": "stdout",
     "output_type": "stream",
     "text": [
      "Stratified sample of 800 items saved to 'sampled_dataset.json'\n"
     ]
    }
   ],
   "source": [
    "import json\n",
    "import pandas as pd\n",
    "from sklearn.model_selection import train_test_split\n",
    "\n",
    "# Load dataset from JSON file\n",
    "with open(datapath, \"r\", encoding=\"utf-8\") as f:\n",
    "    data = json.load(f)\n",
    "\n",
    "# Convert to DataFrame\n",
    "df = pd.DataFrame(data)\n",
    "\n",
    "# Define the sample size (e.g., 20% of the dataset)\n",
    "sample_fraction = 0.2  \n",
    "\n",
    "# Perform stratified sampling based on 'complexityType' and 'category'\n",
    "stratified_sample, _ = train_test_split(\n",
    "    df, \n",
    "    test_size=1 - sample_fraction,  # Keep the desired fraction\n",
    "    stratify=df[[\"complexityType\", \"category\"]],\n",
    "    random_state=42\n",
    ")\n",
    "\n",
    "# Convert back to JSON\n",
    "sampled_data = stratified_sample.to_dict(orient=\"records\")\n",
    "\n",
    "# Save the stratified sample to a new JSON file\n",
    "with open(\"sampled_dataset.json\", \"w\", encoding=\"utf-8\") as f:\n",
    "    json.dump(sampled_data, f, indent=4, ensure_ascii=False)\n",
    "\n",
    "print(f\"Stratified sample of {len(sampled_data)} items saved to 'sampled_dataset.json'\")\n"
   ]
  },
  {
   "cell_type": "code",
   "execution_count": 14,
   "id": "1b510592-2369-4b05-b8a3-0d67768f508b",
   "metadata": {},
   "outputs": [
    {
     "data": {
      "text/plain": [
       "category\n",
       "history       0.125\n",
       "movies        0.125\n",
       "music         0.125\n",
       "videogames    0.125\n",
       "sports        0.125\n",
       "books         0.125\n",
       "geography     0.125\n",
       "politics      0.125\n",
       "Name: count, dtype: float64"
      ]
     },
     "execution_count": 14,
     "metadata": {},
     "output_type": "execute_result"
    }
   ],
   "source": [
    "df['category'].value_counts() / df.shape[0]"
   ]
  },
  {
   "cell_type": "code",
   "execution_count": 15,
   "id": "d76d561d-bcb2-4180-a509-b0dcaed79357",
   "metadata": {},
   "outputs": [
    {
     "data": {
      "text/plain": [
       "complexityType\n",
       "generic         0.2\n",
       "intersection    0.1\n",
       "count           0.1\n",
       "comparative     0.1\n",
       "yesno           0.1\n",
       "ordinal         0.1\n",
       "multihop        0.1\n",
       "difference      0.1\n",
       "superlative     0.1\n",
       "Name: count, dtype: float64"
      ]
     },
     "execution_count": 15,
     "metadata": {},
     "output_type": "execute_result"
    }
   ],
   "source": [
    "df['complexityType'].value_counts() / df.shape[0]"
   ]
  },
  {
   "cell_type": "code",
   "execution_count": 16,
   "id": "b363a762-c6bc-4821-a8cc-91b1a0107043",
   "metadata": {},
   "outputs": [
    {
     "data": {
      "text/plain": [
       "category    complexityType\n",
       "books       generic           0.0250\n",
       "politics    generic           0.0250\n",
       "videogames  generic           0.0250\n",
       "sports      generic           0.0250\n",
       "movies      generic           0.0250\n",
       "                               ...  \n",
       "videogames  intersection      0.0125\n",
       "            multihop          0.0125\n",
       "            ordinal           0.0125\n",
       "            superlative       0.0125\n",
       "            yesno             0.0125\n",
       "Name: count, Length: 72, dtype: float64"
      ]
     },
     "execution_count": 16,
     "metadata": {},
     "output_type": "execute_result"
    }
   ],
   "source": [
    "stratified_sample[['category', 'complexityType']].value_counts() / stratified_sample.shape[0]"
   ]
  },
  {
   "cell_type": "code",
   "execution_count": 12,
   "id": "ad52c1a5-83a3-4ece-8af2-055768dc08e2",
   "metadata": {},
   "outputs": [
    {
     "data": {
      "text/plain": [
       "complexityType\n",
       "generic         0.2\n",
       "yesno           0.1\n",
       "multihop        0.1\n",
       "superlative     0.1\n",
       "ordinal         0.1\n",
       "comparative     0.1\n",
       "intersection    0.1\n",
       "count           0.1\n",
       "difference      0.1\n",
       "Name: count, dtype: float64"
      ]
     },
     "execution_count": 12,
     "metadata": {},
     "output_type": "execute_result"
    }
   ],
   "source": [
    "stratified_sample['complexityType'].value_counts() / stratified_sample.shape[0]"
   ]
  },
  {
   "cell_type": "code",
   "execution_count": 32,
   "id": "be964a6b-878c-473b-83ed-2bdc88fac003",
   "metadata": {},
   "outputs": [],
   "source": [
    "def distribution(df, columns):\n",
    "    \"\"\"\n",
    "    Calculate the distribution of each column in the DataFrame individually.\n",
    "    \"\"\"\n",
    "    distributions = {}\n",
    "    for column in columns:\n",
    "        distributions[column] = df[column].value_counts(normalize=True).reset_index(name='distribution')\n",
    "    return distributions\n",
    "\n",
    "def distribution(df, columns):\n",
    "    \"\"\"\n",
    "    Calculate the distribution of each column in the DataFrame individually\n",
    "    and return it as a single DataFrame.\n",
    "    \"\"\"\n",
    "    distributions = []\n",
    "    for column in columns:\n",
    "        dist = df[column].value_counts(normalize=True).reset_index()\n",
    "        dist.columns = [column, 'distribution']\n",
    "        dist['column'] = column\n",
    "        distributions.append(dist)\n",
    "    return pd.concat(distributions, ignore_index=True)\n",
    "\n",
    "def distribution(df, column: str, do_print=True):\n",
    "    \"\"\"\n",
    "    Calculate the distribution of each column in the DataFrame individually\n",
    "    and return it as a single DataFrame.\n",
    "    \"\"\"\n",
    "    assert isinstance(column, str)\n",
    "    dist = df[column].value_counts(normalize=True).reset_index()\n",
    "    dist_df = pd.DataFrame(dist)\n",
    "    if do_print:\n",
    "        print(dist_df.to_markdown())\n",
    "    return dist_df"
   ]
  },
  {
   "cell_type": "code",
   "execution_count": 34,
   "id": "bc0a8451-4190-45df-abd6-7adae946a344",
   "metadata": {},
   "outputs": [
    {
     "name": "stdout",
     "output_type": "stream",
     "text": [
      "|    | category   |   proportion |\n",
      "|---:|:-----------|-------------:|\n",
      "|  0 | history    |        0.125 |\n",
      "|  1 | movies     |        0.125 |\n",
      "|  2 | music      |        0.125 |\n",
      "|  3 | videogames |        0.125 |\n",
      "|  4 | sports     |        0.125 |\n",
      "|  5 | books      |        0.125 |\n",
      "|  6 | geography  |        0.125 |\n",
      "|  7 | politics   |        0.125 |\n"
     ]
    },
    {
     "data": {
      "text/html": [
       "<div>\n",
       "<style scoped>\n",
       "    .dataframe tbody tr th:only-of-type {\n",
       "        vertical-align: middle;\n",
       "    }\n",
       "\n",
       "    .dataframe tbody tr th {\n",
       "        vertical-align: top;\n",
       "    }\n",
       "\n",
       "    .dataframe thead th {\n",
       "        text-align: right;\n",
       "    }\n",
       "</style>\n",
       "<table border=\"1\" class=\"dataframe\">\n",
       "  <thead>\n",
       "    <tr style=\"text-align: right;\">\n",
       "      <th></th>\n",
       "      <th>category</th>\n",
       "      <th>proportion</th>\n",
       "    </tr>\n",
       "  </thead>\n",
       "  <tbody>\n",
       "    <tr>\n",
       "      <th>0</th>\n",
       "      <td>history</td>\n",
       "      <td>0.125</td>\n",
       "    </tr>\n",
       "    <tr>\n",
       "      <th>1</th>\n",
       "      <td>movies</td>\n",
       "      <td>0.125</td>\n",
       "    </tr>\n",
       "    <tr>\n",
       "      <th>2</th>\n",
       "      <td>music</td>\n",
       "      <td>0.125</td>\n",
       "    </tr>\n",
       "    <tr>\n",
       "      <th>3</th>\n",
       "      <td>videogames</td>\n",
       "      <td>0.125</td>\n",
       "    </tr>\n",
       "    <tr>\n",
       "      <th>4</th>\n",
       "      <td>sports</td>\n",
       "      <td>0.125</td>\n",
       "    </tr>\n",
       "    <tr>\n",
       "      <th>5</th>\n",
       "      <td>books</td>\n",
       "      <td>0.125</td>\n",
       "    </tr>\n",
       "    <tr>\n",
       "      <th>6</th>\n",
       "      <td>geography</td>\n",
       "      <td>0.125</td>\n",
       "    </tr>\n",
       "    <tr>\n",
       "      <th>7</th>\n",
       "      <td>politics</td>\n",
       "      <td>0.125</td>\n",
       "    </tr>\n",
       "  </tbody>\n",
       "</table>\n",
       "</div>"
      ],
      "text/plain": [
       "     category  proportion\n",
       "0     history       0.125\n",
       "1      movies       0.125\n",
       "2       music       0.125\n",
       "3  videogames       0.125\n",
       "4      sports       0.125\n",
       "5       books       0.125\n",
       "6   geography       0.125\n",
       "7    politics       0.125"
      ]
     },
     "execution_count": 34,
     "metadata": {},
     "output_type": "execute_result"
    }
   ],
   "source": [
    "distribution(df, 'category')"
   ]
  },
  {
   "cell_type": "code",
   "execution_count": null,
   "id": "e405e1cf-be91-4cbd-b12f-33503ab3c222",
   "metadata": {},
   "outputs": [],
   "source": []
  }
 ],
 "metadata": {
  "kernelspec": {
   "display_name": "Python 3 (ipykernel)",
   "language": "python",
   "name": "python3"
  },
  "language_info": {
   "codemirror_mode": {
    "name": "ipython",
    "version": 3
   },
   "file_extension": ".py",
   "mimetype": "text/x-python",
   "name": "python",
   "nbconvert_exporter": "python",
   "pygments_lexer": "ipython3",
   "version": "3.10.12"
  }
 },
 "nbformat": 4,
 "nbformat_minor": 5
}
