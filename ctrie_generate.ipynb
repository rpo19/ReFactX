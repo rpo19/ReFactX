{
 "cells": [
  {
   "cell_type": "code",
   "execution_count": 1,
   "id": "2520170d-3c75-404e-a61b-375d5bbb5af7",
   "metadata": {},
   "outputs": [],
   "source": [
    "# pip install bitsandbytes accelerate flash-attn"
   ]
  },
  {
   "cell_type": "code",
   "execution_count": 1,
   "id": "3d437cde-8966-4a9d-b72d-a45549d6c22c",
   "metadata": {},
   "outputs": [],
   "source": [
    "%load_ext autoreload\n",
    "%autoreload 2"
   ]
  },
  {
   "cell_type": "code",
   "execution_count": 2,
   "id": "741e03e3-91ba-48c5-9f20-6ba1ee145dd1",
   "metadata": {},
   "outputs": [],
   "source": [
    "import os\n",
    "os.environ['CUDA_LAUNCH_BLOCKING'] = '1'"
   ]
  },
  {
   "cell_type": "code",
   "execution_count": 3,
   "id": "494b6997-63c2-4f63-b880-fd2520c829bb",
   "metadata": {},
   "outputs": [],
   "source": [
    "import torch\n",
    "import bz2\n",
    "import pickle\n",
    "import importlib\n",
    "from tqdm import tqdm\n",
    "\n",
    "\n",
    "import time\n",
    "from IPython.display import JSON\n",
    "import sys\n",
    "sys.settrace(None)\n",
    "import pdb\n",
    "\n",
    "import copy\n",
    "\n",
    "import psycopg\n",
    "import transformers\n",
    "from transformers import AutoTokenizer, AutoModelForCausalLM, BitsAndBytesConfig, TextStreamer, StoppingCriteria, StoppingCriteriaList, DynamicCache, OffloadedCache #, CodeGenTokenizer\n",
    "from transformers.generation.logits_process import LogitsProcessorList"
   ]
  },
  {
   "cell_type": "code",
   "execution_count": 4,
   "id": "5e82adf2-cc46-403b-93e0-523d127b2ca4",
   "metadata": {},
   "outputs": [],
   "source": [
    "assert torch.cuda.is_available()"
   ]
  },
  {
   "cell_type": "code",
   "execution_count": 16,
   "id": "1878915d-e1ab-41e0-8e74-5566d33184d2",
   "metadata": {},
   "outputs": [
    {
     "name": "stdout",
     "output_type": "stream",
     "text": [
      "Loading meta-llama/Llama-3.2-3B-Instruct\n"
     ]
    },
    {
     "data": {
      "application/vnd.jupyter.widget-view+json": {
       "model_id": "4eb5fa90e39344dc9e036d1e20349db1",
       "version_major": 2,
       "version_minor": 0
      },
      "text/plain": [
       "Loading checkpoint shards:   0%|          | 0/2 [00:00<?, ?it/s]"
      ]
     },
     "metadata": {},
     "output_type": "display_data"
    }
   ],
   "source": [
    "### Remind to remove '.py'\n",
    "# index_module = importlib.import_module('phi4_index')\n",
    "#index_module = importlib.import_module('http_index')\n",
    "#index_module = importlib.import_module('qwen25_index')\n",
    "#index_module = importlib.import_module('gemma3_index')\n",
    "index_module = importlib.import_module('llama_index')\n",
    "index_config = getattr(index_module, 'index_config')\n",
    "\n",
    "# model_module = importlib.import_module('phi4_model')\n",
    "#model_module = importlib.import_module('qwen25_3B_model')\n",
    "#model_module = importlib.import_module('gemma3_4B_model')\n",
    "model_module = importlib.import_module('llama_3B_model')\n",
    "model_config = getattr(model_module, 'model_config')"
   ]
  },
  {
   "cell_type": "code",
   "execution_count": 17,
   "id": "bb124606-cd51-4d48-9869-9fa93bf7f246",
   "metadata": {},
   "outputs": [],
   "source": [
    "streamer = TextStreamer(model_config.tokenizer)"
   ]
  },
  {
   "cell_type": "code",
   "execution_count": 18,
   "id": "a5404188-5b5f-4952-9ad1-24d4198bfed0",
   "metadata": {},
   "outputs": [],
   "source": [
    "from ctrie import ConstrainedLogitsProcessor, ConstrainedStateList, \\\n",
    "                    ConstrainedState, DictIndex"
   ]
  },
  {
   "cell_type": "code",
   "execution_count": 19,
   "id": "212bdd36-79ce-4026-83a5-cb7f9d103c7e",
   "metadata": {},
   "outputs": [],
   "source": [
    "question = '''Which city is the capital of the country where the Eiffel Tower is?'''\n",
    "question = '''Who was the quarterback of the team that won Super Bowl 50?'''\n",
    "question = '''Who is the lead character in the Uncharted series?'''\n",
    "question = '''Who played Gandalf in the Lord of the Rings movies?'''\n",
    "question = '''What was Nirvana's last studio album called?''' # TODO test with beamsearch 3. with beam search if I have only 1 allowed token the other beams could generate something illegal and than crash\n",
    "# TODO understand the crash is due to beam search and abandon those illegal paths. or try to explore always different triples with beam search???\n",
    "\n",
    "\n",
    "question = '''How many members were there in the original NSYNC music group?'''\n",
    "\n",
    "question = 'Who influenced Nirvana band?'\n",
    "\n",
    "question = 'Is Johnny Depp or Brad Pitt older?'\n",
    "question = 'Who is the mother of the director of film Polish-Russian War (Film)?' # Małgorzata Braunek\n",
    "question = 'Which film came out first, Blind Shaft or The Mask Of Fu Manchu?' # The Mask Of Fu Manchu\n",
    "question = 'When did John V, Prince Of Anhalt-Zerbst\\'s father die?' # 12 June 1516\n",
    "\n",
    "prompted_texts = [model_config.apply_prompt_template(question)]"
   ]
  },
  {
   "cell_type": "code",
   "execution_count": 20,
   "id": "03db7b6e-5c68-46db-b3c1-019c3e5d7511",
   "metadata": {},
   "outputs": [
    {
     "name": "stdout",
     "output_type": "stream",
     "text": [
      "<|begin_of_text|><|start_header_id|>system<|end_header_id|>\n",
      "\n",
      "Cutting Knowledge Date: December 2023\n",
      "Today Date: 13 Mar 2025\n",
      "\n",
      "You are a helpful question answering assistant that bases its answer on facts from a knowledge base.\n",
      "1) You receive an input question.\n",
      "2) You reason on the path you need to follow to reach the answer starting from the information in the question.\n",
      "3) You explicitly provide relevant facts, one per line starting with \"Fact:\".\n",
      "4) You explain your reasoning process and provide a long answer with your motivations based on the facts.\n",
      "5) You provide a short concise answer.\n",
      "\n",
      "Sometimes it could happen that there are no relevant facts in the knowledge base.\n",
      "In these cases you either:\n",
      "a) provide your own answer clearly stating that there were no supporting facts to your answer;\n",
      "b) in case you don't know the answer or you are not confident enough, you just answer \"I don't know\".<|eot_id|><|start_header_id|>user<|end_header_id|>\n",
      "\n",
      "Which mountain is taller between Mont Blanc and Mount Rainier?<|eot_id|><|start_header_id|>assistant<|end_header_id|>\n",
      "\n",
      "Reasoning: I need to provide the height of Mont Blanc and the height of Mount Rainier, then I need to compare the two heights and the final answer will be the taller mountain.\n",
      "Fact: <Mont Blanc> <elevation above sea level> <4,807.02±0.5 meters> .\n",
      "Now I need the height of Mount Rainier.\n",
      "Fact: <Mount Rainier> <elevation above sea level> <4,389 meters> .\n",
      "Long answer: Mont Blanc is 4,807 meters tall, while Mount Rainier is 4,389 meters, so Mont Blanc is taller than Mount Rainier.\n",
      "\n",
      "Answer: Mont Blanc.<|eot_id|><|start_header_id|>user<|end_header_id|>\n",
      "\n",
      "When did John V, Prince Of Anhalt-Zerbst's father die?<|eot_id|><|start_header_id|>assistant<|end_header_id|>\n",
      "\n",
      "\n"
     ]
    }
   ],
   "source": [
    "print(prompted_texts[0])"
   ]
  },
  {
   "cell_type": "code",
   "execution_count": 21,
   "id": "cc1decd2-899d-4f72-97af-f3965600e228",
   "metadata": {},
   "outputs": [
    {
     "data": {
      "text/plain": [
       "'prompted_texts = [\\n    \\'\\'\\'\\n<|im_start|>system\\nYou are a helpful question answering assistant that bases its answer on facts from a knowledge base.\\n1) You receive an input question.\\n2) You reason on the path you need to follow to reach the answer starting from the information in the question.\\n3) You explicitly provide relevant facts, one per line starting with \"Fact:\".\\n4) You explain your reasoning process and provide a long answer with your motivations based on the facts.\\n5) You provide a short concise answer.\\n\\nSometimes it could happen that there are no relevant facts in the knowledge base.\\nIn these cases you either:\\na) provide your own answer clearly stating that there were no supporting facts to your answer;\\nb) in case you don\\'t know the answer or you are not confident enough, you just answer \"I don\\'t know\".\\n<|im_end|>\\n<|im_start|>user\\nWhich mountain is taller between Mont Blanc and Mount Rainier?\\n<|im_end|>\\n<|im_start|>assistant\\nReasoning: I need to provide the height of Mont Blanc and the height of Mount Rainier, then I need to compare the two heights and the final answer will be the taller mountain.\\nFact: <Mont Blanc> <elevation above sea level> <4,807.02±0.5 meters> .\\nNow I need the height of Mount Rainier.\\nFact: <Mount Rainier> <elevation above sea level> <4,389 meters> .\\nLong answer: Mont Blanc is 4,807 meters tall, while Mount Rainier is 4,389 meters, so Mont Blanc is taller than Mount Rainier.\\n\\nAnswer: Mont Blanc.\\n<|im_end|>\\n<|im_start|>user\\nWhat is the fourth book in the Twilight series?<|im_end|>\\n<|im_start|>assistant\\nReasoning: To answer the question about the fourth book in the Twilight series, I need to know the titles of the books in the series. I will search for the titles of the books in the Twilight series and identify the fourth one.\\n\\'\\'\\']\\nprompted_texts = [\\'\\'\\'<|im_start|>system\\nYou are a helpful question answering assistant that bases its answer on facts from a knowledge base.\\n1) You receive an input question.\\n2) You reason on the path you need to follow to reach the answer starting from the information in the question.\\n3) You explicitly provide relevant facts, one per line starting with \"Fact:\".\\n4) You explain your reasoning process and provide a long answer with your motivations based on the facts.\\n5) You provide a short concise answer.\\n\\nSometimes it could happen that there are no relevant facts in the knowledge base.\\nIn these cases you either:\\na) provide your own answer clearly stating that there were no supporting facts to your answer;\\nb) in case you don\\'t know the answer or you are not confident enough, you just answer \"I don\\'t know\".\\n<|im_end|>\\n<|im_start|>user\\nWhich mountain is taller between Mont Blanc and Mount Rainier?\\n<|im_end|>\\n<|im_start|>assistant\\nReasoning: I need to provide the height of Mont Blanc and the height of Mount Rainier, then I need to compare the two heights and the final answer will be the taller mountain.\\nFact: <Mont Blanc> <elevation above sea level> <4,807.02±0.5 meters> .\\nNow I need the height of Mount Rainier.\\nFact: <Mount Rainier> <elevation above sea level> <4,389 meters> .\\nLong answer: Mont Blanc is 4,807 meters tall, while Mount Rainier is 4,389 meters, so Mont Blanc is taller than Mount Rainier.\\n\\nAnswer: Mont Blanc.\\n<|im_end|>\\n<|im_start|>user\\nIs Johnny Depp or Brad Pitt older?<|im_end|>\\n<|im_start|>assistant\\n\\n\\n\\n\\n\\'\\'\\']'"
      ]
     },
     "execution_count": 21,
     "metadata": {},
     "output_type": "execute_result"
    }
   ],
   "source": [
    "\"\"\"prompted_texts = [\n",
    "    '''\n",
    "<|im_start|>system\n",
    "You are a helpful question answering assistant that bases its answer on facts from a knowledge base.\n",
    "1) You receive an input question.\n",
    "2) You reason on the path you need to follow to reach the answer starting from the information in the question.\n",
    "3) You explicitly provide relevant facts, one per line starting with \"Fact:\".\n",
    "4) You explain your reasoning process and provide a long answer with your motivations based on the facts.\n",
    "5) You provide a short concise answer.\n",
    "\n",
    "Sometimes it could happen that there are no relevant facts in the knowledge base.\n",
    "In these cases you either:\n",
    "a) provide your own answer clearly stating that there were no supporting facts to your answer;\n",
    "b) in case you don't know the answer or you are not confident enough, you just answer \"I don't know\".\n",
    "<|im_end|>\n",
    "<|im_start|>user\n",
    "Which mountain is taller between Mont Blanc and Mount Rainier?\n",
    "<|im_end|>\n",
    "<|im_start|>assistant\n",
    "Reasoning: I need to provide the height of Mont Blanc and the height of Mount Rainier, then I need to compare the two heights and the final answer will be the taller mountain.\n",
    "Fact: <Mont Blanc> <elevation above sea level> <4,807.02±0.5 meters> .\n",
    "Now I need the height of Mount Rainier.\n",
    "Fact: <Mount Rainier> <elevation above sea level> <4,389 meters> .\n",
    "Long answer: Mont Blanc is 4,807 meters tall, while Mount Rainier is 4,389 meters, so Mont Blanc is taller than Mount Rainier.\n",
    "\n",
    "Answer: Mont Blanc.\n",
    "<|im_end|>\n",
    "<|im_start|>user\n",
    "What is the fourth book in the Twilight series?<|im_end|>\n",
    "<|im_start|>assistant\n",
    "Reasoning: To answer the question about the fourth book in the Twilight series, I need to know the titles of the books in the series. I will search for the titles of the books in the Twilight series and identify the fourth one.\n",
    "''']\n",
    "prompted_texts = ['''<|im_start|>system\n",
    "You are a helpful question answering assistant that bases its answer on facts from a knowledge base.\n",
    "1) You receive an input question.\n",
    "2) You reason on the path you need to follow to reach the answer starting from the information in the question.\n",
    "3) You explicitly provide relevant facts, one per line starting with \\\"Fact:\\\".\n",
    "4) You explain your reasoning process and provide a long answer with your motivations based on the facts.\n",
    "5) You provide a short concise answer.\n",
    "\n",
    "Sometimes it could happen that there are no relevant facts in the knowledge base.\n",
    "In these cases you either:\n",
    "a) provide your own answer clearly stating that there were no supporting facts to your answer;\n",
    "b) in case you don't know the answer or you are not confident enough, you just answer \\\"I don't know\\\".\n",
    "<|im_end|>\n",
    "<|im_start|>user\n",
    "Which mountain is taller between Mont Blanc and Mount Rainier?\n",
    "<|im_end|>\n",
    "<|im_start|>assistant\n",
    "Reasoning: I need to provide the height of Mont Blanc and the height of Mount Rainier, then I need to compare the two heights and the final answer will be the taller mountain.\n",
    "Fact: <Mont Blanc> <elevation above sea level> <4,807.02\\u00b10.5 meters> .\n",
    "Now I need the height of Mount Rainier.\n",
    "Fact: <Mount Rainier> <elevation above sea level> <4,389 meters> .\n",
    "Long answer: Mont Blanc is 4,807 meters tall, while Mount Rainier is 4,389 meters, so Mont Blanc is taller than Mount Rainier.\n",
    "\n",
    "Answer: Mont Blanc.\n",
    "<|im_end|>\n",
    "<|im_start|>user\n",
    "Is Johnny Depp or Brad Pitt older?<|im_end|>\n",
    "<|im_start|>assistant\n",
    "\n",
    "\n",
    "\n",
    "\n",
    "''']\"\"\""
   ]
  },
  {
   "cell_type": "code",
   "execution_count": 22,
   "id": "ec76aa9a-2a48-4f76-8856-3631a57d2ac3",
   "metadata": {},
   "outputs": [],
   "source": [
    "inputs = model_config.tokenizer(prompted_texts, return_tensors='pt', padding=True, padding_side='right')\n",
    "inputs = inputs.to(model_config.model.device)"
   ]
  },
  {
   "cell_type": "code",
   "execution_count": 23,
   "id": "ff6d4668-a82c-4089-bee9-998051c72447",
   "metadata": {},
   "outputs": [
    {
     "data": {
      "text/plain": [
       "device(type='cuda', index=0)"
      ]
     },
     "execution_count": 23,
     "metadata": {},
     "output_type": "execute_result"
    }
   ],
   "source": [
    "model_config.model.device"
   ]
  },
  {
   "cell_type": "code",
   "execution_count": 24,
   "id": "928bc065-deb5-4f17-b108-691b210eb79e",
   "metadata": {},
   "outputs": [],
   "source": [
    "torch.cuda.empty_cache()"
   ]
  },
  {
   "cell_type": "code",
   "execution_count": 25,
   "id": "bdf11ff9-ffbe-4a97-8acc-ca52931d7974",
   "metadata": {},
   "outputs": [
    {
     "name": "stderr",
     "output_type": "stream",
     "text": [
      "Setting `pad_token_id` to `eos_token_id`:128001 for open-end generation.\n"
     ]
    },
    {
     "name": "stdout",
     "output_type": "stream",
     "text": [
      "<|begin_of_text|><|begin_of_text|><|start_header_id|>system<|end_header_id|>\n",
      "\n",
      "Cutting Knowledge Date: December 2023\n",
      "Today Date: 13 Mar 2025\n",
      "\n",
      "You are a helpful question answering assistant that bases its answer on facts from a knowledge base.\n",
      "1) You receive an input question.\n",
      "2) You reason on the path you need to follow to reach the answer starting from the information in the question.\n",
      "3) You explicitly provide relevant facts, one per line starting with \"Fact:\".\n",
      "4) You explain your reasoning process and provide a long answer with your motivations based on the facts.\n",
      "5) You provide a short concise answer.\n",
      "\n",
      "Sometimes it could happen that there are no relevant facts in the knowledge base.\n",
      "In these cases you either:\n",
      "a) provide your own answer clearly stating that there were no supporting facts to your answer;\n",
      "b) in case you don't know the answer or you are not confident enough, you just answer \"I don't know\".<|eot_id|><|start_header_id|>user<|end_header_id|>\n",
      "\n",
      "Which mountain is taller between Mont Blanc and Mount Rainier?<|eot_id|><|start_header_id|>assistant<|end_header_id|>\n",
      "\n",
      "Reasoning: I need to provide the height of Mont Blanc and the height of Mount Rainier, then I need to compare the two heights and the final answer will be the taller mountain.\n",
      "Fact: <Mont Blanc> <elevation above sea level> <4,807.02±0.5 meters>.\n",
      "Now I need the height of Mount Rainier.\n",
      "Fact: <Mount Rainier> <elevation above sea level> <4,389 meters>.\n",
      "Long answer: Mont Blanc is 4,807 meters tall, while Mount Rainier is 4,389 meters, so Mont Blanc is taller than Mount Rainier.\n",
      "\n",
      "Answer: Mont Blanc.<|eot_id|><|start_header_id|>user<|end_header_id|>\n",
      "\n",
      "When did John V, Prince Of Anhalt-Zerbst's father die?<|eot_id|><|start_header_id|>assistant<|end_header_id|>\n",
      "\n",
      "Reasoning: I need to find information about John V, Prince Of Anhalt-Zerbst, then I need to find information about his father, and finally, I need to find the date of his father's death.\n",
      "Fact: <John V, Prince of Anhalt-Zerbst> <date of birth> <1504-09-04T00:00:00Z>.\n",
      "Fact: <Prince of Anhalt (Ruler of the Principality of Anhalt)> <part of> <Principality of Anhalt>.\n",
      "Fact: <Principality of Anhalt> <dissolved, abolished or demolished date> <1806-01-01T00:00:00Z>.\n",
      "Fact: <Prince of Anhalt (Ruler of the Principality of Anhalt)> <has list> <Rulers of Anhalt (Wikimedia list article)>.\n",
      "Reasoning: From the fact that the Principality of Anhalt was dissolved in 1806, I can infer that John V, Prince Of Anhalt-Zerbst's father was a ruler of the Principality of Anhalt. \n",
      "Fact: <Rulers of Anhalt (Wikimedia list article)> <is a list of> <Human>.\n",
      "Reasoning: From the list of rulers of Anhalt, I can find the name of John V, Prince Of Anhalt-Zerbst's father.\n",
      "Fact: <Rulers of Anhalt (Wikimedia list article)> <description> <Wikimedia list article>.\n",
      "Reasoning: From the description of the list of rulers of Anhalt, I can find the name of John V, Prince Of Anhalt-Zerbst's father.\n",
      "Fact: <John V, Prince of Anhalt-Zerbst> <father> <Ernest I, Prince of Anhalt-Dessau>.\n",
      "Reasoning: From the fact that John V, Prince Of Anhalt-Zerbst's father is Ernest I, Prince of Anhalt-Dessau, I can find the date of his death.\n",
      "Fact: <Ernest I, Prince of Anhalt-Dessau> <date of death> <1516-06-12T00:00:00Z>.\n",
      "Long answer: I was unable to find the date of death of John V, Prince Of Anhalt-Zerbst's father, Ernest I, Prince of Anhalt-Dessau, in the knowledge base.\n",
      "\n",
      "Answer: I don't know.<|eot_id|>\n",
      "Elapsed 45.620821952819824\n"
     ]
    }
   ],
   "source": [
    "num_beams = 1\n",
    "\n",
    "auto_streamer = streamer if num_beams == 1 else None\n",
    "\n",
    "states = ConstrainedStateList(\n",
    "    [ConstrainedState(\n",
    "                begin_pattern = model_config.switch_pattern,\n",
    "                end_pattern = model_config.newline_token,\n",
    "                cache_index = DictIndex(end_of_triple=index_config.index.end_of_triple),\n",
    "                subtree_cache = DictIndex(end_of_triple=index_config.index.end_of_triple),\n",
    "                oneleaf_cache = DictIndex(end_of_triple=index_config.index.end_of_triple)\n",
    "            ) for _ in range(num_beams)],\n",
    "            num_beams=num_beams,\n",
    "            batch_size = 1,\n",
    "            pad_token_id = model_config.tokenizer.eos_token_id)\n",
    "\n",
    "constrained_processor = ConstrainedLogitsProcessor(\n",
    "    index=index_config.index,\n",
    "    end_token=model_config.newline_token, states=states, tokenizer=model_config.tokenizer)\n",
    "logits_processor_list = LogitsProcessorList([\n",
    "    constrained_processor\n",
    "])\n",
    "\n",
    "model_config.model.eval()\n",
    "start = time.time()\n",
    "\n",
    "with torch.no_grad():\n",
    "\n",
    "    #pdb.set_trace()\n",
    "    out = model_config.model.generate(\n",
    "        **inputs,\n",
    "        logits_processor=logits_processor_list,\n",
    "        max_new_tokens=800,\n",
    "        streamer = auto_streamer,\n",
    "        do_sample = False,\n",
    "        temperature = 0.0,\n",
    "        top_k=None,\n",
    "        num_beams=num_beams,\n",
    "        #num_beam_groups = num_beams // 2,\n",
    "        ## TODO group beam search works differently with logitsprocessors: input ids shape is group shape = num_beams / num_beam_groups\n",
    "        #diversity_penalty=0.5,\n",
    "        #num_return_sequences=1,\n",
    "        num_return_sequences=num_beams,\n",
    "        #no_repeat_ngram_size=1,\n",
    "        #remove_invalid_values=True,\n",
    "        #stopping_criteria=stopping_criteria,\n",
    "        use_cache=True,\n",
    "        #past_key_values=past_key_values,\n",
    "        kwargs = {'constrained_state': states}, # passing state\n",
    "    )\n",
    "\n",
    "print('Elapsed', time.time() - start)"
   ]
  },
  {
   "cell_type": "code",
   "execution_count": 16,
   "id": "e657fa51-3673-4ac3-9349-4bb817b7a50e",
   "metadata": {},
   "outputs": [],
   "source": [
    "torch.cuda.empty_cache()"
   ]
  },
  {
   "cell_type": "code",
   "execution_count": 17,
   "id": "6a1b8386-fcbc-4bf3-b13b-e388f4bbc537",
   "metadata": {},
   "outputs": [
    {
     "name": "stdout",
     "output_type": "stream",
     "text": [
      "------------------------------ tensor(10495369, device='cuda:0') 100\n",
      "Reasoning: I need to find the death date of John V, Prince of Anhalt-Zerbst’s father.\n",
      "Fact: <John V, Prince of Anhalt-Zerbst> <father> <Ernest I, Prince of Anhalt-Dessau> .\n",
      "The information states that Ernest I, Prince of Anhalt-Dessau, died on November 18, 1898.\n",
      "\n",
      "Answer: November 18, 1898.<eos>\n",
      "------------------------------ tensor(10495385, device='cuda:0') 100\n",
      "Reasoning: I need to find the death date of John V, Prince of Anhalt-Zerbst’s father.\n",
      "Fact: <John V, Prince of Anhalt-Zerbst> <father> <Ernest I, Prince of Anhalt-Dessau> .\n",
      "The information states that Ernest I, Prince of Anhalt-Dessau, died on November 28, 1898.\n",
      "\n",
      "Answer: November 28, 1898.<eos>\n"
     ]
    }
   ],
   "source": [
    "_from = len(inputs.input_ids[0]) # 0\n",
    "for i in range(out.shape[0]):\n",
    "    print('-'*30, sum(out[i][_from:]), len(out[i][_from:]))\n",
    "    print(model_config.tokenizer.decode(out[i][_from:]))"
   ]
  },
  {
   "cell_type": "code",
   "execution_count": 18,
   "id": "dfb7cc7c-ed8d-4b48-9e97-c12b63641329",
   "metadata": {},
   "outputs": [
    {
     "name": "stdout",
     "output_type": "stream",
     "text": [
      "0  <John V, Prince of Anhalt-Zerbst> <father> <Ernest I, Prince of Anhalt-Dessau> . [655, 12720, 782, 236764, 18934, 529, 1455, 28468, 236772, 224754, 18144, 236813, 655, 23341, 236813, 655, 230638, 564, 236764, 18934, 529, 1455, 28468, 236772, 169474, 826, 236813, 783, 107]\n"
     ]
    }
   ],
   "source": [
    "for i, triple in enumerate(states[0].generated_triples):\n",
    "    print(i, model_config.tokenizer.decode(triple)[:-1], triple, end='\\n')"
   ]
  },
  {
   "cell_type": "code",
   "execution_count": null,
   "id": "b88a9e54-5602-416b-8306-da2e07a4c556",
   "metadata": {},
   "outputs": [],
   "source": []
  }
 ],
 "metadata": {
  "kernelspec": {
   "display_name": "Python (gemma3)",
   "language": "python",
   "name": "gemma3"
  },
  "language_info": {
   "codemirror_mode": {
    "name": "ipython",
    "version": 3
   },
   "file_extension": ".py",
   "mimetype": "text/x-python",
   "name": "python",
   "nbconvert_exporter": "python",
   "pygments_lexer": "ipython3",
   "version": "3.11.11"
  }
 },
 "nbformat": 4,
 "nbformat_minor": 5
}
