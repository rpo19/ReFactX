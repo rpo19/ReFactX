{
 "cells": [
  {
   "cell_type": "code",
   "execution_count": 1,
   "id": "2520170d-3c75-404e-a61b-375d5bbb5af7",
   "metadata": {},
   "outputs": [],
   "source": [
    "# pip install bitsandbytes accelerate flash-attn"
   ]
  },
  {
   "cell_type": "code",
   "execution_count": 1,
   "id": "3d437cde-8966-4a9d-b72d-a45549d6c22c",
   "metadata": {},
   "outputs": [],
   "source": [
    "%load_ext autoreload\n",
    "%autoreload 2"
   ]
  },
  {
   "cell_type": "code",
   "execution_count": 2,
   "id": "741e03e3-91ba-48c5-9f20-6ba1ee145dd1",
   "metadata": {},
   "outputs": [],
   "source": [
    "import os\n",
    "os.environ['CUDA_LAUNCH_BLOCKING'] = '1'"
   ]
  },
  {
   "cell_type": "code",
   "execution_count": 3,
   "id": "494b6997-63c2-4f63-b880-fd2520c829bb",
   "metadata": {},
   "outputs": [],
   "source": [
    "import torch\n",
    "import bz2\n",
    "import pickle\n",
    "import importlib\n",
    "from tqdm import tqdm\n",
    "\n",
    "\n",
    "import time\n",
    "from IPython.display import JSON\n",
    "import sys\n",
    "sys.settrace(None)\n",
    "import pdb\n",
    "\n",
    "import copy\n",
    "\n",
    "import psycopg\n",
    "import transformers\n",
    "from transformers import AutoTokenizer, AutoModelForCausalLM, BitsAndBytesConfig, TextStreamer, StoppingCriteria, StoppingCriteriaList, DynamicCache, OffloadedCache #, CodeGenTokenizer\n",
    "from transformers.generation.logits_process import LogitsProcessorList"
   ]
  },
  {
   "cell_type": "code",
   "execution_count": 4,
   "id": "5e82adf2-cc46-403b-93e0-523d127b2ca4",
   "metadata": {},
   "outputs": [],
   "source": [
    "assert torch.cuda.is_available()"
   ]
  },
  {
   "cell_type": "code",
   "execution_count": 7,
   "id": "1878915d-e1ab-41e0-8e74-5566d33184d2",
   "metadata": {},
   "outputs": [
    {
     "name": "stdout",
     "output_type": "stream",
     "text": [
      "Loading Qwen/Qwen2.5-1.5B-Instruct\n"
     ]
    }
   ],
   "source": [
    "# index_module = importlib.import_module('phi4_index')\n",
    "index_module = importlib.import_module('qwen25_index')\n",
    "Index = getattr(index_module, 'Index')\n",
    "index = Index()\n",
    "\n",
    "# model_module = importlib.import_module('phi4_model')\n",
    "model_module = importlib.import_module('qwen25_1B_model')\n",
    "Model = getattr(model_module, 'Model')\n",
    "model = Model()"
   ]
  },
  {
   "cell_type": "code",
   "execution_count": 8,
   "id": "bb124606-cd51-4d48-9869-9fa93bf7f246",
   "metadata": {},
   "outputs": [],
   "source": [
    "streamer = TextStreamer(model.tokenizer)"
   ]
  },
  {
   "cell_type": "code",
   "execution_count": 9,
   "id": "a5404188-5b5f-4952-9ad1-24d4198bfed0",
   "metadata": {},
   "outputs": [],
   "source": [
    "from ctrie import ConstrainedLogitsProcessor, ConstrainedStateList, \\\n",
    "                    ConstrainedState, DictIndex, GetAnswer"
   ]
  },
  {
   "cell_type": "code",
   "execution_count": 10,
   "id": "212bdd36-79ce-4026-83a5-cb7f9d103c7e",
   "metadata": {},
   "outputs": [],
   "source": [
    "question = {'role':'user', 'content': '''Which city is the capital of the country where the Eiffel Tower is?\n",
    "'''}\n",
    "question = {'role':'user', 'content': '''Who was the quarterback of the team that won Super Bowl 50?\n",
    "'''}\n",
    "question = {'role':'user', 'content': '''Who is the lead character in the Uncharted series?\n",
    "'''}\n",
    "question = {'role':'user', 'content': '''Who played Gandalf in the Lord of the Rings movies?\n",
    "'''}\n",
    "question = {'role':'user', 'content': '''What was Nirvana's last studio album called?\n",
    "'''} # TODO test with beamsearch 3. with beam search if I have only 1 allowed token the other beams could generate something illegal and than crash\n",
    "# TODO understand the crash is due to beam search and abandon those illegal paths. or try to explore always different triples with beam search???\n",
    "\"\"\"\n",
    "question = {'role':'user', 'content': '''Is Johnny Depp or Brad Pitt older?\n",
    "'''}\n",
    "question = {'role':'user', 'content': '''How many members were there in the original NSYNC music group?\n",
    "'''}\n",
    "\"\"\"\n",
    "\n",
    "question = 'Who influenced Nirvana band?'\n",
    "\n",
    "prompted_texts = [model.apply_prompt_template(question)]"
   ]
  },
  {
   "cell_type": "code",
   "execution_count": 11,
   "id": "03db7b6e-5c68-46db-b3c1-019c3e5d7511",
   "metadata": {},
   "outputs": [
    {
     "name": "stdout",
     "output_type": "stream",
     "text": [
      "<|im_start|>system\n",
      "You are a helpful question answering assistant that bases its answer on facts from a knowledge base.\n",
      "1) You receive an input question.\n",
      "2) You reason on the path you need to follow to reach the answer starting from the information in the question.\n",
      "3) You explicitly provide relevant facts, one per line starting with \"Fact:\".\n",
      "4) You explain your reasoning process and provide a long answer with your motivations based on the facts.\n",
      "5) You provide a short concise answer.\n",
      "\n",
      "Sometimes it could happen that there are no relevant facts in the knowledge base.\n",
      "In these cases you either:\n",
      "a) provide your own answer clearly stating that there were no supporting facts to your answer;\n",
      "b) in case you don't know the answer or you are not confident enough, you just answer \"I don't know\".\n",
      "<|im_end|>\n",
      "<|im_start|>user\n",
      "Which mountain is taller between Mont Blanc and Mount Rainier?\n",
      "<|im_end|>\n",
      "<|im_start|>assistant\n",
      "Reasoning: I need to provide the height of Mont Blanc and the height of Mount Rainier, then I need to compare the two heights and the final answer will be the taller mountain.\n",
      "Fact: <Mont Blanc> <elevation above sea level> <4,807.02±0.5 meters> .\n",
      "Now I need the height of Mount Rainier.\n",
      "Fact: <Mount Rainier> <elevation above sea level> <4,389 meters> .\n",
      "Long answer: Mont Blanc is 4,807 meters tall, while Mount Rainier is 4,389 meters, so Mont Blanc is taller than Mount Rainier.\n",
      "\n",
      "Answer: Mont Blanc.\n",
      "<|im_end|>\n",
      "<|im_start|>user\n",
      "Who influenced Nirvana band?<|im_end|>\n",
      "<|im_start|>assistant\n",
      "\n"
     ]
    }
   ],
   "source": [
    "print(prompted_texts[0])"
   ]
  },
  {
   "cell_type": "code",
   "execution_count": 12,
   "id": "ec76aa9a-2a48-4f76-8856-3631a57d2ac3",
   "metadata": {},
   "outputs": [],
   "source": [
    "inputs = model.tokenizer(prompted_texts, return_tensors='pt', padding=True, padding_side='right')\n",
    "inputs = inputs.to(model.device)"
   ]
  },
  {
   "cell_type": "code",
   "execution_count": 13,
   "id": "57a042e4-f2e5-4b96-8063-d30721ccd4ae",
   "metadata": {},
   "outputs": [],
   "source": [
    "getanswer = GetAnswer(model.answer_tokens, model.eofanswer, all)\n",
    "stopping_criteria = StoppingCriteriaList([\n",
    "    getanswer\n",
    "])"
   ]
  },
  {
   "cell_type": "code",
   "execution_count": 14,
   "id": "928bc065-deb5-4f17-b108-691b210eb79e",
   "metadata": {},
   "outputs": [],
   "source": [
    "torch.cuda.empty_cache()"
   ]
  },
  {
   "cell_type": "code",
   "execution_count": 15,
   "id": "bdf11ff9-ffbe-4a97-8acc-ca52931d7974",
   "metadata": {},
   "outputs": [
    {
     "name": "stdout",
     "output_type": "stream",
     "text": [
      "<|im_start|>system\n",
      "You are a helpful question answering assistant that bases its answer on facts from a knowledge base.\n",
      "1) You receive an input question.\n",
      "2) You reason on the path you need to follow to reach the answer starting from the information in the question.\n",
      "3) You explicitly provide relevant facts, one per line starting with \"Fact:\".\n",
      "4) You explain your reasoning process and provide a long answer with your motivations based on the facts.\n",
      "5) You provide a short concise answer.\n",
      "\n",
      "Sometimes it could happen that there are no relevant facts in the knowledge base.\n",
      "In these cases you either:\n",
      "a) provide your own answer clearly stating that there were no supporting facts to your answer;\n",
      "b) in case you don't know the answer or you are not confident enough, you just answer \"I don't know\".\n",
      "<|im_end|>\n",
      "<|im_start|>user\n",
      "Which mountain is taller between Mont Blanc and Mount Rainier?\n",
      "<|im_end|>\n",
      "<|im_start|>assistant\n",
      "Reasoning: I need to provide the height of Mont Blanc and the height of Mount Rainier, then I need to compare the two heights and the final answer will be the taller mountain.\n",
      "Fact: <Mont Blanc> <elevation above sea level> <4,807.02±0.5 meters> .\n",
      "Now I need the height of Mount Rainier.\n",
      "Fact: <Mount Rainier> <elevation above sea level> <4,389 meters> .\n",
      "Long answer: Mont Blanc is 4,807 meters tall, while Mount Rainier is 4,389 meters, so Mont Blanc is taller than Mount Rainier.\n",
      "\n",
      "Answer: Mont Blanc.\n",
      "<|im_end|>\n",
      "<|im_start|>user\n",
      "Who influenced Nirvana band?<|im_end|>\n",
      "<|im_start|>assistant\n",
      "Reasoning: To find out who influenced Nirvana, I need to look for biographical information about Kurt Cobain, as he was the lead singer of Nirvana.\n",
      "Fact: <Kurt Cobain> <genre> <Alternative rock> .\n",
      "Fact: <Kurt Cobain> <instrument> <Guitar> .\n",
      "Fact: <Kurt Cobain> <family name> <Cobain (surname)> .\n",
      "Fact: <Kurt Cobain> <place of birth> <Aberdeen, Washington> .\n",
      "Fact: <Kurt Cobain> <occupation> <singer (person singing for a listening audience)> .\n",
      "Fact: <Kurt Cobain> <religion or worldview> <Agnosticism> .\n",
      "Fact: <Kurt Cobain> <father> <Donald Leland Cobain (father of Kurt Cobain (b. 1946))> .\n",
      "Fact: <Kurt Cobain>\n",
      "Elapsed 21.604283332824707\n"
     ]
    }
   ],
   "source": [
    "num_beams = 1\n",
    "\n",
    "auto_streamer = streamer if num_beams == 1 else None\n",
    "\n",
    "states = ConstrainedStateList(\n",
    "    [ConstrainedState(\n",
    "                begin_pattern = model.switch_pattern,\n",
    "                end_pattern = model.newline_token,\n",
    "                cache_index = DictIndex(end_of_triple=index.end_of_triple),\n",
    "                subtree_cache = DictIndex(end_of_triple=index.end_of_triple),\n",
    "                oneleaf_cache = DictIndex(end_of_triple=index.end_of_triple)\n",
    "            ) for _ in range(num_beams)])\n",
    "\n",
    "constrained_processor = ConstrainedLogitsProcessor(\n",
    "    index=index.index,\n",
    "    end_token=model.newline_token, states=states)#, tokenizer=tokenizer)\n",
    "logits_processor_list = LogitsProcessorList([\n",
    "    constrained_processor\n",
    "])\n",
    "\n",
    "model.model.eval()\n",
    "start = time.time()\n",
    "\n",
    "with torch.no_grad():\n",
    "\n",
    "    getanswer.set_prompt(inputs.input_ids[0])\n",
    "\n",
    "    #pdswitch_patternb.set_trace()\n",
    "    out = model.model.generate(\n",
    "        **inputs,\n",
    "        logits_processor=logits_processor_list,\n",
    "        max_new_tokens=200,\n",
    "        streamer = auto_streamer,\n",
    "        #do_sample = True,\n",
    "        #top_k=3,\n",
    "        num_beams=num_beams,\n",
    "        #num_return_sequences=1,\n",
    "        num_return_sequences=num_beams,\n",
    "        #no_repeat_ngram_size=1,\n",
    "        #remove_invalid_values=True,\n",
    "        stopping_criteria=stopping_criteria,\n",
    "        use_cache=True,\n",
    "        #past_key_values=past_key_values,\n",
    "        kwargs = {'constrained_state': states}, # passing state\n",
    "    )\n",
    "\n",
    "print('Elapsed', time.time() - start)"
   ]
  },
  {
   "cell_type": "code",
   "execution_count": 37,
   "id": "e657fa51-3673-4ac3-9349-4bb817b7a50e",
   "metadata": {},
   "outputs": [],
   "source": [
    "torch.cuda.empty_cache()"
   ]
  },
  {
   "cell_type": "code",
   "execution_count": 44,
   "id": "6a1b8386-fcbc-4bf3-b13b-e388f4bbc537",
   "metadata": {},
   "outputs": [
    {
     "name": "stdout",
     "output_type": "stream",
     "text": [
      "------------------------------ tensor(5872727, device='cuda:0') 531\n",
      "<|im_start|>system<|im_sep|>You are a helpful question answering assistant that bases its answer on facts from a knowledge base.\n",
      "1) You receive an input question.\n",
      "2) You reason on the path you need to follow to reach the answer starting from the information in the question.\n",
      "3) You explicitly provide relevant facts, one per line starting with \"Fact:\".\n",
      "4) You explain your reasoning process and provide a long answer with your motivations based on the facts.\n",
      "5) You provide a short concise answer.\n",
      "\n",
      "Sometimes it could happen that there are no relevant facts in the knowledge base.\n",
      "In these cases you either:\n",
      "a) provide your own answer clearly stating that there were no supporting facts to your answer;\n",
      "b) in case you don't know the answer or you are not confident enough, you just answer \"I don't know\".<|im_end|><|im_start|>user<|im_sep|>Which mountain is taller between Mont Blanc and Mount Rainier?<|im_end|><|im_start|>assistant<|im_sep|>Reasoning: I need to provide the height of Mont Blanc and the height of Mount Rainier, then I need to compare the two heights and the final answer will be the taller mountain.\n",
      "Fact: <Mont Blanc> <elevation above sea level> <4,807.02±0.5 meters> .\n",
      "Now I need the height of Mount Rainier.\n",
      "Fact: <Mount Rainier> <elevation above sea level> <4,389 meters> .\n",
      "Long answer: Mont Blanc is 4,807 meters tall, while Mount Rainier is 4,389 meters, so Mont Blanc is taller than Mount Rainier.\n",
      "\n",
      "Answer: Mont Blanc.<|im_end|><|im_start|>user<|im_sep|>Who influenced Nirvana band?<|im_end|><|im_start|>assistant<|im_sep|>Reasoning: To determine who influenced the band Nirvana, I need to identify key musical and cultural influences that shaped their sound and style. This involves looking at the bands, artists, and genres that Nirvana's members, particularly Kurt Cobain, cited as inspirations.\n",
      "\n",
      "Fact: <Nirvana> <inception> <1832-01-01T00:00:00Z> .\n",
      "Fact: <Nirvana> <genre> <Folk music> .\n",
      "Fact: <Nirvana> <genre> <Contemporary folk music> .\n",
      "Fact: <Nirvana> <genre> <New-age music> .\n",
      "Fact: <Nirvana> <genre> <J-pop> .\n",
      "Fact: <Nirvana> <genre> <Electropop> .\n",
      "Fact: <Nirvana> <genre> <Intelligent dance music> .\n",
      "Fact: <Nirvana> <inception> <1887\n"
     ]
    }
   ],
   "source": [
    "_from = 0# len(inputs.input_ids[0])\n",
    "for i in range(out.shape[0]):\n",
    "    print('-'*30, sum(out[i][_from:]), len(out[i][_from:]))\n",
    "    print(model.tokenizer.decode(out[i][_from:]))"
   ]
  },
  {
   "cell_type": "code",
   "execution_count": 42,
   "id": "dfb7cc7c-ed8d-4b48-9e97-c12b63641329",
   "metadata": {},
   "outputs": [
    {
     "name": "stdout",
     "output_type": "stream",
     "text": [
      "0  <Nirvana> <inception> <1832-01-01T00:00:00Z> . [366, 45, 404, 68559, 29, 366, 258, 1010, 29, 366, 10750, 17, 12, 1721, 12, 1721, 51, 410, 25, 410, 25, 410, 57, 29, 662, 198]\n",
      "1  <Nirvana> <genre> <Folk music> . [366, 45, 404, 68559, 29, 366, 34713, 29, 366, 37, 23427, 4731, 29, 662, 198]\n",
      "2  <Nirvana> <genre> <Contemporary folk music> . [366, 45, 404, 68559, 29, 366, 34713, 29, 366, 825, 14084, 29036, 4731, 29, 662, 198]\n",
      "3  <Nirvana> <genre> <New-age music> . [366, 45, 404, 68559, 29, 366, 34713, 29, 366, 3648, 44041, 4731, 29, 662, 198]\n",
      "4  <Nirvana> <genre> <J-pop> . [366, 45, 404, 68559, 29, 366, 34713, 29, 366, 41, 41352, 29, 662, 198]\n",
      "5  <Nirvana> <genre> <Electropop> . [366, 45, 404, 68559, 29, 366, 34713, 29, 366, 30431, 897, 454, 29, 662, 198]\n",
      "6  <Nirvana> <genre> <Intelligent dance music> . [366, 45, 404, 68559, 29, 366, 34713, 29, 366, 1090, 21149, 15612, 4731, 29, 662, 198]\n"
     ]
    }
   ],
   "source": [
    "for i, triple in enumerate(states[0].generated_triples):\n",
    "    print(i, model.tokenizer.decode(triple)[:-1], triple, end='\\n')"
   ]
  },
  {
   "cell_type": "code",
   "execution_count": 52,
   "id": "9631cc0d-16d8-4d61-abeb-877401641bef",
   "metadata": {},
   "outputs": [
    {
     "data": {
      "text/plain": [
       "(False, '')"
      ]
     },
     "execution_count": 52,
     "metadata": {},
     "output_type": "execute_result"
    }
   ],
   "source": [
    "stop, ans = getanswer.get_answer(out[0])\n",
    "# TODO: is getanswer still needed?\n",
    "stop, model.tokenizer.decode(list(ans)) # TODO trim and remove special tokens"
   ]
  }
 ],
 "metadata": {
  "kernelspec": {
   "display_name": "Python (conda base)",
   "language": "python",
   "name": "condabase"
  },
  "language_info": {
   "codemirror_mode": {
    "name": "ipython",
    "version": 3
   },
   "file_extension": ".py",
   "mimetype": "text/x-python",
   "name": "python",
   "nbconvert_exporter": "python",
   "pygments_lexer": "ipython3",
   "version": "3.11.10"
  }
 },
 "nbformat": 4,
 "nbformat_minor": 5
}
