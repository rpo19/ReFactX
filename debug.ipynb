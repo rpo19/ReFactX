{
 "cells": [
  {
   "cell_type": "code",
   "execution_count": 1,
   "id": "d71d0acc-a911-4855-ae97-38529d1d7b01",
   "metadata": {},
   "outputs": [],
   "source": [
    "import pickle"
   ]
  },
  {
   "cell_type": "code",
   "execution_count": 2,
   "id": "49314786-83eb-4d0a-89e9-d41b0410cd8c",
   "metadata": {},
   "outputs": [],
   "source": [
    "fname = '/workspace/data/wikidata_titles_mapping.pickle'"
   ]
  },
  {
   "cell_type": "code",
   "execution_count": 3,
   "id": "4ac8f73f-f636-4cf9-9c2a-41a604ad9229",
   "metadata": {},
   "outputs": [],
   "source": [
    "with open(fname, 'rb') as fd:\n",
    "    mapping = pickle.load(fd)"
   ]
  },
  {
   "cell_type": "code",
   "execution_count": 8,
   "id": "c3197d33-76f2-4935-91c7-5b151b03cec6",
   "metadata": {},
   "outputs": [],
   "source": [
    "with open('/workspace/data/wikidata_labels_w_descr_3.pickle', 'rb') as fd:\n",
    "    mapping_wikidata = pickle.load(fd)"
   ]
  },
  {
   "cell_type": "code",
   "execution_count": 6,
   "id": "e9f71008-517f-4ba4-abbb-0a3c61c8dfa5",
   "metadata": {},
   "outputs": [
    {
     "data": {
      "text/plain": [
       "6199"
      ]
     },
     "execution_count": 6,
     "metadata": {},
     "output_type": "execute_result"
    }
   ],
   "source": [
    "next(iter(mapping.keys()))"
   ]
  },
  {
   "cell_type": "code",
   "execution_count": 7,
   "id": "460c38bc-8e7b-425c-8527-9f499c1f2673",
   "metadata": {},
   "outputs": [
    {
     "ename": "KeyError",
     "evalue": "103922126",
     "output_type": "error",
     "traceback": [
      "\u001b[0;31m---------------------------------------------------------------------------\u001b[0m",
      "\u001b[0;31mKeyError\u001b[0m                                  Traceback (most recent call last)",
      "Cell \u001b[0;32mIn[7], line 1\u001b[0m\n\u001b[0;32m----> 1\u001b[0m \u001b[43mmapping\u001b[49m\u001b[43m[\u001b[49m\u001b[38;5;241;43m103922126\u001b[39;49m\u001b[43m]\u001b[49m\n",
      "\u001b[0;31mKeyError\u001b[0m: 103922126"
     ]
    }
   ],
   "source": [
    "mapping[103922126]"
   ]
  },
  {
   "cell_type": "code",
   "execution_count": 9,
   "id": "14f54dac-fe51-485d-8fce-d23da321d7a9",
   "metadata": {},
   "outputs": [
    {
     "data": {
      "text/plain": [
       "['United Kingdom', set(), 'shipwreck off the Scottish coast']"
      ]
     },
     "execution_count": 9,
     "metadata": {},
     "output_type": "execute_result"
    }
   ],
   "source": [
    "mapping_wikidata[103922126]"
   ]
  },
  {
   "cell_type": "code",
   "execution_count": null,
   "id": "8384fe62-abef-475a-94f6-fee75629d166",
   "metadata": {},
   "outputs": [],
   "source": []
  }
 ],
 "metadata": {
  "kernelspec": {
   "display_name": "Python (conda base)",
   "language": "python",
   "name": "condabase"
  },
  "language_info": {
   "codemirror_mode": {
    "name": "ipython",
    "version": 3
   },
   "file_extension": ".py",
   "mimetype": "text/x-python",
   "name": "python",
   "nbconvert_exporter": "python",
   "pygments_lexer": "ipython3",
   "version": "3.11.10"
  }
 },
 "nbformat": 4,
 "nbformat_minor": 5
}
