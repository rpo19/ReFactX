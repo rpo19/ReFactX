{
 "cells": [
  {
   "cell_type": "code",
   "execution_count": 1,
   "id": "d71d0acc-a911-4855-ae97-38529d1d7b01",
   "metadata": {},
   "outputs": [],
   "source": [
    "import pickle"
   ]
  },
  {
   "cell_type": "code",
   "execution_count": 2,
   "id": "49314786-83eb-4d0a-89e9-d41b0410cd8c",
   "metadata": {},
   "outputs": [],
   "source": [
    "fname = '/workspace/data/wikidata_titles_mapping.pickle'"
   ]
  },
  {
   "cell_type": "code",
   "execution_count": 3,
   "id": "4ac8f73f-f636-4cf9-9c2a-41a604ad9229",
   "metadata": {},
   "outputs": [],
   "source": [
    "with open(fname, 'rb') as fd:\n",
    "    mapping = pickle.load(fd)"
   ]
  },
  {
   "cell_type": "code",
   "execution_count": 8,
   "id": "c3197d33-76f2-4935-91c7-5b151b03cec6",
   "metadata": {},
   "outputs": [],
   "source": [
    "with open('/workspace/data/wikidata_labels_w_descr_3.pickle', 'rb') as fd:\n",
    "    mapping_wikidata = pickle.load(fd)"
   ]
  },
  {
   "cell_type": "code",
   "execution_count": 6,
   "id": "e9f71008-517f-4ba4-abbb-0a3c61c8dfa5",
   "metadata": {},
   "outputs": [
    {
     "data": {
      "text/plain": [
       "6199"
      ]
     },
     "execution_count": 6,
     "metadata": {},
     "output_type": "execute_result"
    }
   ],
   "source": [
    "next(iter(mapping.keys()))"
   ]
  },
  {
   "cell_type": "code",
   "execution_count": 7,
   "id": "460c38bc-8e7b-425c-8527-9f499c1f2673",
   "metadata": {},
   "outputs": [
    {
     "ename": "KeyError",
     "evalue": "103922126",
     "output_type": "error",
     "traceback": [
      "\u001b[0;31m---------------------------------------------------------------------------\u001b[0m",
      "\u001b[0;31mKeyError\u001b[0m                                  Traceback (most recent call last)",
      "Cell \u001b[0;32mIn[7], line 1\u001b[0m\n\u001b[0;32m----> 1\u001b[0m \u001b[43mmapping\u001b[49m\u001b[43m[\u001b[49m\u001b[38;5;241;43m103922126\u001b[39;49m\u001b[43m]\u001b[49m\n",
      "\u001b[0;31mKeyError\u001b[0m: 103922126"
     ]
    }
   ],
   "source": [
    "mapping[103922126]"
   ]
  },
  {
   "cell_type": "code",
   "execution_count": 9,
   "id": "14f54dac-fe51-485d-8fce-d23da321d7a9",
   "metadata": {},
   "outputs": [
    {
     "data": {
      "text/plain": [
       "['United Kingdom', set(), 'shipwreck off the Scottish coast']"
      ]
     },
     "execution_count": 9,
     "metadata": {},
     "output_type": "execute_result"
    }
   ],
   "source": [
    "mapping_wikidata[103922126]"
   ]
  },
  {
   "cell_type": "markdown",
   "id": "094045de-1615-4467-8f7e-e8cb2a55122f",
   "metadata": {},
   "source": [
    "# Twilight bug"
   ]
  },
  {
   "cell_type": "code",
   "execution_count": 1,
   "id": "7c6b0efc-e256-4ef9-81ec-de17f2976b17",
   "metadata": {},
   "outputs": [],
   "source": [
    "import importlib\n",
    "from ctrie import ConstrainedState, DictIndex, TripleNotFoundException, EmptyIndexException\n",
    "from transformers import AutoTokenizer\n",
    "import random"
   ]
  },
  {
   "cell_type": "code",
   "execution_count": 3,
   "id": "39e6bc6f-6d90-4853-b98b-06ca36bae58e",
   "metadata": {},
   "outputs": [
    {
     "data": {
      "text/plain": [
       "'\\nFact: <Twilight> <author> <Fitz-Greene Halleck> .\\nFact: <Twilight> <author> <Eduard von Keyserling> .\\nFact: <Twilight> <author>\\nFact: <Twilight> <author>\\nFact: <Twilight> <author>\\n'"
      ]
     },
     "execution_count": 3,
     "metadata": {},
     "output_type": "execute_result"
    }
   ],
   "source": [
    "'''\n",
    "<|im_start|>system\n",
    "You are a helpful question answering assistant that bases its answer on facts from a knowledge base.\n",
    "1) You receive an input question.\n",
    "2) You reason on the path you need to follow to reach the answer starting from the information in the question.\n",
    "3) You explicitly provide relevant facts, one per line starting with \"Fact:\".\n",
    "4) You explain your reasoning process and provide a long answer with your motivations based on the facts.\n",
    "5) You provide a short concise answer.\n",
    "\n",
    "Sometimes it could happen that there are no relevant facts in the knowledge base.\n",
    "In these cases you either:\n",
    "a) provide your own answer clearly stating that there were no supporting facts to your answer;\n",
    "b) in case you don't know the answer or you are not confident enough, you just answer \"I don't know\".\n",
    "<|im_end|>\n",
    "<|im_start|>user\n",
    "Which mountain is taller between Mont Blanc and Mount Rainier?\n",
    "<|im_end|>\n",
    "<|im_start|>assistant\n",
    "Reasoning: I need to provide the height of Mont Blanc and the height of Mount Rainier, then I need to compare the two heights and the final answer will be the taller mountain.\n",
    "Fact: <Mont Blanc> <elevation above sea level> <4,807.02±0.5 meters> .\n",
    "Now I need the height of Mount Rainier.\n",
    "Fact: <Mount Rainier> <elevation above sea level> <4,389 meters> .\n",
    "Long answer: Mont Blanc is 4,807 meters tall, while Mount Rainier is 4,389 meters, so Mont Blanc is taller than Mount Rainier.\n",
    "\n",
    "Answer: Mont Blanc.\n",
    "<|im_end|>\n",
    "<|im_start|>user\n",
    "What is the fourth book in the Twilight series?<|im_end|>\n",
    "<|im_start|>assistant\n",
    "Reasoning: To answer the question about the fourth book in the Twilight series, I need to recall the titles of the books in the series. However, there are no explicit facts provided about the titles of the books in the Twilight series in the knowledge base. Therefore, I will have to rely on my general knowledge to provide the answer.\n",
    "Fact: <Twilight> <author> <Julia Frankau> .\n",
    "Fact: <Twilight> <author> <Paul Laurence Dunbar> .\n",
    "Fact: <Twilight> <genre> <Science fiction> .\n",
    "Fact: <Twilight> <genre> <Soul music> .\n",
    "Fact: <Twilight> <genre> <Rock music> .\n",
    "Fact: <Twilight> <genre> <Pop music> .\n",
    "Fact: <Twilight> <genre> <Alternative rock> .\n",
    "Fact: <Twilight> <genre> <Jazz> .\n",
    "Fact: <Twilight> <genre> <Techno> .\n",
    "Fact: <Twilight> <genre> <Experimental film> .\n",
    "Fact: <Twilight> <genre> <Video art> .\n",
    "Fact: <Twilight> <genre> <Landscape painting> .\n",
    "Fact: <Twilight> <genre> <Public art> .\n",
    "Fact: <Twilight> <genre> <Silent film> .\n",
    "Fact: <Twilight> <genre>\n",
    "Fact: <Twilight> <genre>\n",
    "Fact: <Twilight> <genre>\n",
    "Fact: <Twilight> <genre>\n",
    "Fact: <Twilight> <genre>\n",
    "Fact: <Twilight> <genre>\n",
    "Fact: <Twilight> <genre>\n",
    "Fact: <Twilight> <genre>\n",
    "Fact: <Twilight> <genre>\n",
    "Fact: <Twilight> <genre>\n",
    "Fact: <Twilight> <genre>\n",
    "Fact: <Tw'''\n",
    "\n",
    "'''\n",
    "Fact: <Twilight> <author> <Fitz-Greene Halleck> .\n",
    "Fact: <Twilight> <author> <Eduard von Keyserling> .\n",
    "Fact: <Twilight> <author>\n",
    "Fact: <Twilight> <author>\n",
    "Fact: <Twilight> <author>\n",
    "'''"
   ]
  },
  {
   "cell_type": "code",
   "execution_count": 4,
   "id": "8384fe62-abef-475a-94f6-fee75629d166",
   "metadata": {},
   "outputs": [],
   "source": [
    "index_module = importlib.import_module('qwen25_index')\n",
    "Index = getattr(index_module, 'Index')\n",
    "index = Index()"
   ]
  },
  {
   "cell_type": "code",
   "execution_count": 5,
   "id": "37900652-d2d6-4bad-88b3-7125b6dc7fb1",
   "metadata": {},
   "outputs": [],
   "source": [
    "tokenizer = AutoTokenizer.from_pretrained('Qwen/Qwen2.5-3B-Instruct')"
   ]
  },
  {
   "cell_type": "code",
   "execution_count": 68,
   "id": "0eba87f1-c7a9-41da-b2e4-9c2aa68c9aa5",
   "metadata": {},
   "outputs": [],
   "source": [
    "state = ConstrainedState(\n",
    "                    begin_pattern = [17417, 25],\n",
    "                    end_pattern = 198,\n",
    "                    cache_index = DictIndex(end_of_triple=index.end_of_triple),\n",
    "                    subtree_cache = DictIndex(end_of_triple=index.end_of_triple),\n",
    "                    oneleaf_cache = DictIndex(end_of_triple=index.end_of_triple),\n",
    "                )"
   ]
  },
  {
   "cell_type": "code",
   "execution_count": 69,
   "id": "c89cee44-6fe6-4810-802d-e448a644b976",
   "metadata": {},
   "outputs": [],
   "source": [
    "state.state = state.CONSTRAINED_GENERATION\n",
    "state.cursor = 6"
   ]
  },
  {
   "cell_type": "code",
   "execution_count": 70,
   "id": "23b41052-b2c9-470a-96bd-1c92d4c3b0f4",
   "metadata": {},
   "outputs": [
    {
     "data": {
      "text/plain": [
       "['Ġ<', 'Tw', 'ilight', '>', 'Ġ<', 'author']"
      ]
     },
     "execution_count": 70,
     "metadata": {},
     "output_type": "execute_result"
    }
   ],
   "source": [
    "tokenizer.tokenize('''\n",
    "Fact: <Twilight> <author''')[3:]"
   ]
  },
  {
   "cell_type": "code",
   "execution_count": 71,
   "id": "318c4c1c-8955-4b6b-b7cb-a1779dff477d",
   "metadata": {},
   "outputs": [
    {
     "name": "stdout",
     "output_type": "stream",
     "text": [
      "[366, 22816, 34900, 29, 366, 3094]\n"
     ]
    }
   ],
   "source": [
    "input_sequence = tokenizer.encode('''\n",
    "Fact: <Twilight> <author''')[3:]\n",
    "print(input_sequence)"
   ]
  },
  {
   "cell_type": "code",
   "execution_count": 72,
   "id": "2dd3f1f7-6408-4392-b5c4-28246af83ea4",
   "metadata": {},
   "outputs": [],
   "source": [
    "random.seed(1234)"
   ]
  },
  {
   "cell_type": "code",
   "execution_count": 73,
   "id": "55d78d2e-ea9c-4163-a180-27544fab0771",
   "metadata": {},
   "outputs": [],
   "source": [
    "#input_sequence = [366, 22816, 34900, 29, 366, 33613]\n",
    "#input_sequence = [366, 22816, 34900, 29, 366, 33613, 29, 366, 28256, 78, 29, 659]"
   ]
  },
  {
   "cell_type": "code",
   "execution_count": 74,
   "id": "c8a9d38f-af29-45f1-910a-a39a5e58ddfd",
   "metadata": {},
   "outputs": [
    {
     "data": {
      "text/plain": [
       "[366, 22816, 34900, 29, 366, 3094]"
      ]
     },
     "execution_count": 74,
     "metadata": {},
     "output_type": "execute_result"
    }
   ],
   "source": [
    "input_sequence"
   ]
  },
  {
   "cell_type": "code",
   "execution_count": 86,
   "id": "d2bf0ed5-1c2b-420b-87c4-988ccf2569f0",
   "metadata": {},
   "outputs": [
    {
     "data": {
      "text/plain": [
       "'>'"
      ]
     },
     "execution_count": 86,
     "metadata": {},
     "output_type": "execute_result"
    }
   ],
   "source": [
    "tokenizer.decode(29)"
   ]
  },
  {
   "cell_type": "code",
   "execution_count": 75,
   "id": "6f66cf22-2321-42cf-a83f-15ad601fe314",
   "metadata": {},
   "outputs": [
    {
     "name": "stdout",
     "output_type": "stream",
     "text": [
      " <Twilight> <author> <Fitz-Greene Halleck> .\n",
      " <Twilight> <author> <Howard Chaykin> .\n"
     ]
    },
    {
     "ename": "IndexError",
     "evalue": "Cannot choose from an empty sequence",
     "output_type": "error",
     "traceback": [
      "\u001b[0;31m---------------------------------------------------------------------------\u001b[0m",
      "\u001b[0;31mIndexError\u001b[0m                                Traceback (most recent call last)",
      "Cell \u001b[0;32mIn[75], line 25\u001b[0m\n\u001b[1;32m     22\u001b[0m     input_sequence_run \u001b[38;5;241m=\u001b[39m input_sequence\u001b[38;5;241m.\u001b[39mcopy() \u001b[38;5;66;03m#[366, 22816, 34900, 29, 366, 33613]\u001b[39;00m\n\u001b[1;32m     24\u001b[0m \u001b[38;5;28;01melse\u001b[39;00m:\n\u001b[0;32m---> 25\u001b[0m     new_token \u001b[38;5;241m=\u001b[39m \u001b[43mrandom\u001b[49m\u001b[38;5;241;43m.\u001b[39;49m\u001b[43mchoice\u001b[49m\u001b[43m(\u001b[49m\u001b[38;5;28;43mlist\u001b[39;49m\u001b[43m(\u001b[49m\u001b[43mpossible_tokens\u001b[49m\u001b[38;5;241;43m.\u001b[39;49m\u001b[43mkeys\u001b[49m\u001b[43m(\u001b[49m\u001b[43m)\u001b[49m\u001b[43m)\u001b[49m\u001b[43m)\u001b[49m\n\u001b[1;32m     26\u001b[0m     input_sequence_run\u001b[38;5;241m.\u001b[39mappend(new_token)\n\u001b[1;32m     28\u001b[0m     \u001b[38;5;66;03m#print(input_sequence)\u001b[39;00m\n",
      "File \u001b[0;32m/opt/conda/lib/python3.11/random.py:373\u001b[0m, in \u001b[0;36mRandom.choice\u001b[0;34m(self, seq)\u001b[0m\n\u001b[1;32m    370\u001b[0m \u001b[38;5;66;03m# As an accommodation for NumPy, we don't use \"if not seq\"\u001b[39;00m\n\u001b[1;32m    371\u001b[0m \u001b[38;5;66;03m# because bool(numpy.array()) raises a ValueError.\u001b[39;00m\n\u001b[1;32m    372\u001b[0m \u001b[38;5;28;01mif\u001b[39;00m \u001b[38;5;129;01mnot\u001b[39;00m \u001b[38;5;28mlen\u001b[39m(seq):\n\u001b[0;32m--> 373\u001b[0m     \u001b[38;5;28;01mraise\u001b[39;00m \u001b[38;5;167;01mIndexError\u001b[39;00m(\u001b[38;5;124m'\u001b[39m\u001b[38;5;124mCannot choose from an empty sequence\u001b[39m\u001b[38;5;124m'\u001b[39m)\n\u001b[1;32m    374\u001b[0m \u001b[38;5;28;01mreturn\u001b[39;00m seq[\u001b[38;5;28mself\u001b[39m\u001b[38;5;241m.\u001b[39m_randbelow(\u001b[38;5;28mlen\u001b[39m(seq))]\n",
      "\u001b[0;31mIndexError\u001b[0m: Cannot choose from an empty sequence"
     ]
    }
   ],
   "source": [
    "input_sequence_run = input_sequence.copy() #[366, 22816, 34900, 29, 366, 33613]\n",
    "for i in range(100):\n",
    "    possible_tokens = index.index.next_tokens(input_sequence_run, state = state)\n",
    "    try:\n",
    "        visited_tokens = state.cache_index.next_tokens(input_sequence_run)\n",
    "        # print(visited_tokens, end=' = ')\n",
    "        index.index.subtract_tokens(possible_tokens, visited_tokens)\n",
    "        #print('sub')\n",
    "    except EmptyIndexException:\n",
    "        # ignore when the cache index is empty\n",
    "        pass\n",
    "    except TripleNotFoundException:\n",
    "        # ignore if triple not in cache index\n",
    "        pass\n",
    "\n",
    "    if len(possible_tokens) == 1 and 659 in possible_tokens:\n",
    "        # end\n",
    "        input_sequence_run = input_sequence_run + [659]\n",
    "        state.cache_index.add(input_sequence_run)\n",
    "        print(tokenizer.decode(input_sequence_run))\n",
    "        #input_sequence = []\n",
    "        input_sequence_run = input_sequence.copy() #[366, 22816, 34900, 29, 366, 33613]\n",
    "\n",
    "    else:\n",
    "        new_token = random.choice(list(possible_tokens.keys()))\n",
    "        input_sequence_run.append(new_token)\n",
    "\n",
    "        #print(input_sequence)\n"
   ]
  },
  {
   "cell_type": "code",
   "execution_count": 85,
   "id": "f7ee2015-dcf9-45bc-9b76-b234e0633e50",
   "metadata": {},
   "outputs": [
    {
     "data": {
      "text/plain": [
       "{366: 2}"
      ]
     },
     "execution_count": 85,
     "metadata": {},
     "output_type": "execute_result"
    }
   ],
   "source": [
    "index.index.next_tokens([366, 22816, 34900, 29, 366, 3094, 29], state = state)"
   ]
  },
  {
   "cell_type": "code",
   "execution_count": 77,
   "id": "757a57b7-85db-4a60-89ec-a5d49997a7ae",
   "metadata": {},
   "outputs": [
    {
     "data": {
      "text/plain": [
       "' <Twilight> <author>'"
      ]
     },
     "execution_count": 77,
     "metadata": {},
     "output_type": "execute_result"
    }
   ],
   "source": [
    "tokenizer.decode(input_sequence_run)\n"
   ]
  },
  {
   "cell_type": "code",
   "execution_count": 80,
   "id": "86c5b48d-bd23-4495-9684-6e0089948128",
   "metadata": {},
   "outputs": [
    {
     "data": {
      "text/plain": [
       "[366, 22816, 34900, 29, 366, 3094, 29]"
      ]
     },
     "execution_count": 80,
     "metadata": {},
     "output_type": "execute_result"
    }
   ],
   "source": [
    "input_sequence_run"
   ]
  },
  {
   "cell_type": "code",
   "execution_count": 36,
   "id": "52ec726b-3f14-4cb1-ba35-1f8281b83dfb",
   "metadata": {},
   "outputs": [
    {
     "name": "stdout",
     "output_type": "stream",
     "text": [
      " <Twilight> <genre>\n",
      "{} []\n",
      "{366: 12}\n"
     ]
    }
   ],
   "source": [
    "print(tokenizer.decode(input_sequence))\n",
    "print(possible_tokens, tokenizer.convert_ids_to_tokens(possible_tokens.keys()))\n",
    "try:\n",
    "    print(visited_tokens)\n",
    "except NameError:\n",
    "    pass"
   ]
  },
  {
   "cell_type": "code",
   "execution_count": null,
   "id": "a0c8ac38-b34b-4d16-9d00-5afd0ea0f340",
   "metadata": {},
   "outputs": [],
   "source": [
    "input_sequence"
   ]
  },
  {
   "cell_type": "code",
   "execution_count": 37,
   "id": "c2b0441b-4210-41d2-8f94-2ed47ecc930c",
   "metadata": {},
   "outputs": [
    {
     "data": {
      "text/plain": [
       "True"
      ]
     },
     "execution_count": 37,
     "metadata": {},
     "output_type": "execute_result"
    }
   ],
   "source": [
    "state.is_constrained()"
   ]
  },
  {
   "cell_type": "code",
   "execution_count": 38,
   "id": "02de67e2-11ef-4f1f-92f5-a2d4961f3cd0",
   "metadata": {},
   "outputs": [
    {
     "data": {
      "text/plain": [
       "<ctrie.DictIndex object at 0x7a28a41bd6d0>\n",
       "[0, []]"
      ]
     },
     "execution_count": 38,
     "metadata": {},
     "output_type": "execute_result"
    }
   ],
   "source": [
    "state.cache_index"
   ]
  },
  {
   "cell_type": "code",
   "execution_count": 87,
   "id": "1abb1679-3a5e-4dfa-ba91-f6174b1349a7",
   "metadata": {},
   "outputs": [
    {
     "data": {
      "text/plain": [
       "'\\npostgres=# select id, key, numleaves, children, childrenleaves from ctriev3 where key = array[150000, 366, 23662, 36000, 29, 366,3170];\\n                                                                             \\n    id     |                 key                  | numleaves |                                                    children                                                     | childrenleaves \\n-----------+--------------------------------------+-----------+-----------------------------------------------------------------------------------------------------------------+----------------\\n  39754563 | {150000,366,23662,36000,29,366,3170} |         1 | {29,366,37659,7957,320,18688,16401,662}                                                                         | {}\\n  48017622 | {150000,366,23662,36000,29,366,3170} |         1 | {29,366,29185,689,9454,2933,29,662}                                                                             | {}\\n  59855946 | {150000,366,23662,36000,29,366,3170} |         1 | {29,366,23083,432,13,10058,14767,29,662}                                                                        | {}\\n 104236583 | {150000,366,23662,36000,29,366,3170} |         1 | {29,366,56,40055,71841,73,56761,320,52566,40360,11,69435,380,323,32465,18640,320,9378,17,12,4468,15,595,29,662} | {}\\n 109789191 | {150000,366,23662,36000,29,366,3170} |         2 | {29}                                                                                                            | {2}\\n 161521985 | {150000,366,23662,36000,29,366,3170} |         1 | {29,366,45887,21334,320,3170,16401,662}                                                                         | {}\\n 183882233 | {150000,366,23662,36000,29,366,3170} |         1 | {29,366,45887,21334,320,3170,16401,662}                                                                         | {}\\n 186175949 | {150000,366,23662,36000,29,366,3170} |         1 | {29,366,61760,483,36221,29,662}                                                                                 | {}\\n 190219190 | {150000,366,23662,36000,29,366,3170} |         1 | {29,366,36,1072,569,6675,5422,805,2785,29,662}                                                                  | {}\\n 193702832 | {150000,366,23662,36000,29,366,3170} |         1 | {29,366,26368,33767,16848,29838,2308,29,662}                                                                    | {}\\n 202558649 | {150000,366,23662,36000,29,366,3170} |         1 | {29,366,23083,432,13,10058,14767,29,662}                                                                        | {}\\n 220277159 | {150000,366,23662,36000,29,366,3170} |         1 | {29,366,76768,921,352,8148,29,662}                                                                              | {}\\n(12 rows)\\n\\npostgres=# select id, key, sum(numleaves), children, childrenleaves from ctriev3 where key = array[150000, 366, 23662, 36000, 29, 366,3170];\\n                                                                             \\nERROR:  column \"ctriev3.id\" must appear in the GROUP BY clause or be used in an aggregate function\\nLINE 1: select id, key, sum(numleaves), children, childrenleaves fro...\\n               ^\\npostgres=# select sum(numleaves)from ctriev3 where key = array[150000, 366, 23662, 36000, 29, 366,3170];\\n                                                                             \\n sum \\n-----\\n  13\\n(1 row)\\n\\npostgres=# select count(*), children from ctriev3 where key = array[150000, 366, 23662, 36000, 29, 366,3170] group by children;\\n                                                                             \\n count |                                                    children                                                     \\n-------+-----------------------------------------------------------------------------------------------------------------\\n     1 | {29}\\n     1 | {29,366,36,1072,569,6675,5422,805,2785,29,662}\\n     1 | {29,366,56,40055,71841,73,56761,320,52566,40360,11,69435,380,323,32465,18640,320,9378,17,12,4468,15,595,29,662}\\n     2 | {29,366,23083,432,13,10058,14767,29,662}\\n     1 | {29,366,26368,33767,16848,29838,2308,29,662}\\n     1 | {29,366,29185,689,9454,2933,29,662}\\n     1 | {29,366,37659,7957,320,18688,16401,662}\\n     2 | {29,366,45887,21334,320,3170,16401,662}\\n     1 | {29,366,61760,483,36221,29,662}\\n     1 | {29,366,76768,921,352,8148,29,662}\\n(10 rows)\\n'"
      ]
     },
     "execution_count": 87,
     "metadata": {},
     "output_type": "execute_result"
    }
   ],
   "source": [
    "'''\n",
    "postgres=# select id, key, numleaves, children, childrenleaves from ctriev3 where key = array[150000, 366, 23662, 36000, 29, 366,3170];\n",
    "                                                                             \n",
    "    id     |                 key                  | numleaves |                                                    children                                                     | childrenleaves \n",
    "-----------+--------------------------------------+-----------+-----------------------------------------------------------------------------------------------------------------+----------------\n",
    "  39754563 | {150000,366,23662,36000,29,366,3170} |         1 | {29,366,37659,7957,320,18688,16401,662}                                                                         | {}\n",
    "  48017622 | {150000,366,23662,36000,29,366,3170} |         1 | {29,366,29185,689,9454,2933,29,662}                                                                             | {}\n",
    "  59855946 | {150000,366,23662,36000,29,366,3170} |         1 | {29,366,23083,432,13,10058,14767,29,662}                                                                        | {}\n",
    " 104236583 | {150000,366,23662,36000,29,366,3170} |         1 | {29,366,56,40055,71841,73,56761,320,52566,40360,11,69435,380,323,32465,18640,320,9378,17,12,4468,15,595,29,662} | {}\n",
    " 109789191 | {150000,366,23662,36000,29,366,3170} |         2 | {29}                                                                                                            | {2}\n",
    " 161521985 | {150000,366,23662,36000,29,366,3170} |         1 | {29,366,45887,21334,320,3170,16401,662}                                                                         | {}\n",
    " 183882233 | {150000,366,23662,36000,29,366,3170} |         1 | {29,366,45887,21334,320,3170,16401,662}                                                                         | {}\n",
    " 186175949 | {150000,366,23662,36000,29,366,3170} |         1 | {29,366,61760,483,36221,29,662}                                                                                 | {}\n",
    " 190219190 | {150000,366,23662,36000,29,366,3170} |         1 | {29,366,36,1072,569,6675,5422,805,2785,29,662}                                                                  | {}\n",
    " 193702832 | {150000,366,23662,36000,29,366,3170} |         1 | {29,366,26368,33767,16848,29838,2308,29,662}                                                                    | {}\n",
    " 202558649 | {150000,366,23662,36000,29,366,3170} |         1 | {29,366,23083,432,13,10058,14767,29,662}                                                                        | {}\n",
    " 220277159 | {150000,366,23662,36000,29,366,3170} |         1 | {29,366,76768,921,352,8148,29,662}                                                                              | {}\n",
    "(12 rows)\n",
    "\n",
    "postgres=# select id, key, sum(numleaves), children, childrenleaves from ctriev3 where key = array[150000, 366, 23662, 36000, 29, 366,3170];\n",
    "                                                                             \n",
    "ERROR:  column \"ctriev3.id\" must appear in the GROUP BY clause or be used in an aggregate function\n",
    "LINE 1: select id, key, sum(numleaves), children, childrenleaves fro...\n",
    "               ^\n",
    "postgres=# select sum(numleaves)from ctriev3 where key = array[150000, 366, 23662, 36000, 29, 366,3170];\n",
    "                                                                             \n",
    " sum \n",
    "-----\n",
    "  13\n",
    "(1 row)\n",
    "\n",
    "postgres=# select count(*), children from ctriev3 where key = array[150000, 366, 23662, 36000, 29, 366,3170] group by children;\n",
    "                                                                             \n",
    " count |                                                    children                                                     \n",
    "-------+-----------------------------------------------------------------------------------------------------------------\n",
    "     1 | {29}\n",
    "     1 | {29,366,36,1072,569,6675,5422,805,2785,29,662}\n",
    "     1 | {29,366,56,40055,71841,73,56761,320,52566,40360,11,69435,380,323,32465,18640,320,9378,17,12,4468,15,595,29,662}\n",
    "     2 | {29,366,23083,432,13,10058,14767,29,662}\n",
    "     1 | {29,366,26368,33767,16848,29838,2308,29,662}\n",
    "     1 | {29,366,29185,689,9454,2933,29,662}\n",
    "     1 | {29,366,37659,7957,320,18688,16401,662}\n",
    "     2 | {29,366,45887,21334,320,3170,16401,662}\n",
    "     1 | {29,366,61760,483,36221,29,662}\n",
    "     1 | {29,366,76768,921,352,8148,29,662}\n",
    "(10 rows)\n",
    "'''"
   ]
  }
 ],
 "metadata": {
  "kernelspec": {
   "display_name": "Python (conda base)",
   "language": "python",
   "name": "condabase"
  },
  "language_info": {
   "codemirror_mode": {
    "name": "ipython",
    "version": 3
   },
   "file_extension": ".py",
   "mimetype": "text/x-python",
   "name": "python",
   "nbconvert_exporter": "python",
   "pygments_lexer": "ipython3",
   "version": "3.11.10"
  }
 },
 "nbformat": 4,
 "nbformat_minor": 5
}
